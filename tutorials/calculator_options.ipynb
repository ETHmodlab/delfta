{
 "cells": [
  {
   "cell_type": "markdown",
   "source": [
    "# Advanced options for the DelftaCalculator"
   ],
   "metadata": {}
  },
  {
   "cell_type": "markdown",
   "source": [
    "This tutorials looks a bit more in-depth at the different options you can pass to the DelftaCalculator. You can refer to the basic tutorial ([delta_vs_direct.ipynb](delta_vs_direct.ipynb)) to get started with the default settings. Again, we'll start with imports: "
   ],
   "metadata": {}
  },
  {
   "cell_type": "code",
   "execution_count": 2,
   "source": [
    "import os\n",
    "import glob\n",
    "from openbabel.pybel import readfile, readstring\n",
    "import numpy as np\n",
    "\n",
    "from delfta.calculator import DelftaCalculator\n",
    "from delfta.utils import TESTS_PATH, ROOT_PATH"
   ],
   "outputs": [
    {
     "output_type": "stream",
     "name": "stderr",
     "text": [
      "2021/07/15 01:34:10 PM | rdkit | INFO: Enabling RDKit 2020.09.1 jupyter extensions\n",
      "/Users/Clemens/miniconda3/envs/delfta/lib/python3.7/importlib/_bootstrap.py:219: RuntimeWarning: numpy.ufunc size changed, may indicate binary incompatibility. Expected 192 from C header, got 216 from PyObject\n",
      "  return f(*args, **kwds)\n",
      "/Users/Clemens/miniconda3/envs/delfta/lib/python3.7/importlib/_bootstrap.py:219: RuntimeWarning: numpy.ufunc size changed, may indicate binary incompatibility. Expected 192 from C header, got 216 from PyObject\n",
      "  return f(*args, **kwds)\n",
      "/Users/Clemens/miniconda3/envs/delfta/lib/python3.7/importlib/_bootstrap.py:219: RuntimeWarning: numpy.ufunc size changed, may indicate binary incompatibility. Expected 192 from C header, got 216 from PyObject\n",
      "  return f(*args, **kwds)\n"
     ]
    }
   ],
   "metadata": {}
  },
  {
   "cell_type": "markdown",
   "source": [
    "The options for the calculator (with their respective defaults) are `tasks=\"all\"`, `delta=True`, `force3d=True`, `addh=True`, `xtbopt=False`, `verbose=True`, and `progress=True`. Let's look at them in detail."
   ],
   "metadata": {}
  },
  {
   "cell_type": "markdown",
   "source": [
    "## Tasks"
   ],
   "metadata": {}
  },
  {
   "cell_type": "markdown",
   "source": [
    "This defines which properties the calculator should predict. You can either pass a list with any combination of the following keys, or simply `\"all\"` (the default) to get all the values. \n",
    "\n",
    "| Property                                      | Key         | Unit  |\n",
    "|-----------------------------------------------|-------------|-------|\n",
    "| Formation energy                              | `\"E_form\"`  | $E_h$ |\n",
    "| Energy of highest occupied molecular orbital  | `\"E_homo\"`  | $E_h$ |\n",
    "| Energy of lowest unoccupied molecular orbital | `\"E_lumo\"`  | $E_h$ |\n",
    "| HOMO-LUMO gap                                 | `\"E_gap\"`   | $E_h$ |\n",
    "| Molecular dipole                              | `\"dipole\"`  | D     |\n",
    "| Mulliken partial charges                      | `\"charges\"` | $e$   |\n",
    "| Wiberg bond orders                            | `\"wbo\"`     | -     |\n",
    "\n",
    "Note that xTB needs to be run only once for all of them (if `delta=True`, see later), and that HOMO/LUMO/gap energies and the dipole are predicted in a multi-task setting (all via the same network), so the computational cost does not scale linearly with the number of requested properties. \n",
    "\n"
   ],
   "metadata": {}
  },
  {
   "cell_type": "markdown",
   "source": [
    "## Delta"
   ],
   "metadata": {}
  },
  {
   "cell_type": "markdown",
   "source": [
    "This defines whether or not to use the $\\Delta$-prediction approach, *i.e.*, whether to compute the requested values with the semi-empirical GFN2-xTB method, and use the network to predict a correction to this value to obtain an approximation of the DFT value ($\\omega$B97X-D/def2-SVP). This is the default (`delta=True`), but you can set it to `False` to directly predict the requested properties from the molecular structure. This removes the need to compute xTB and thus speeds up the process a little bit (though this only makes a noticable differences when you run the calculator for large numbers of molecules)."
   ],
   "metadata": {}
  },
  {
   "cell_type": "markdown",
   "source": [
    "## force3d"
   ],
   "metadata": {}
  },
  {
   "cell_type": "markdown",
   "source": [
    "This defines whether you want to use the Merck Molecular Force Field 94 (MMFF94) as implemented in Openbabel to create 3D coordinates for molecules that don't have them. All the quantum mechanical properties that `DelftaCalculator` provides depend on the molecular geometry, so you really shouldn't be passing a 2D molecule and expect reasonable results (of course flat structures like benzene are fine). This defaults to `force3d=True`, and will not affect any molecules you pass that already have a 3D geometry. "
   ],
   "metadata": {}
  },
  {
   "cell_type": "markdown",
   "source": [
    "## addh"
   ],
   "metadata": {}
  },
  {
   "cell_type": "markdown",
   "source": [
    "This defines whether you want to add hydrogens to the molecule. If enabled, we're using Openbabel to check if there's hydrogens missing, and add them accordingly. Just as with `force3d`, it's important to include hydrogens in the molecule rather than using only the heavy atoms in the quantum mechanical calculations/predictions. Note that hydrogens are often omited in SMILES notation. This option also defaults to `addh=True` and won't affect any molecules that already have explicit hydrogens added. "
   ],
   "metadata": {}
  },
  {
   "cell_type": "markdown",
   "source": [
    "## xtbopt"
   ],
   "metadata": {}
  },
  {
   "cell_type": "markdown",
   "source": [
    "This option lets you use GFN2-xTB to optimize the 3D structure of a molecule. This can be useful if you created the conformation with a force field (or used `force3d` to do this), but want to optimize the structure a bit more thoroughly with a more precise method. "
   ],
   "metadata": {}
  },
  {
   "cell_type": "code",
   "execution_count": 26,
   "source": [
    "mol = next(readfile(\"xyz\", os.path.join(ROOT_PATH, \"notebooks\", \"check_pdb_files\", \"wfns_ken\", \"benzene.xyz\")))\n",
    "print(np.array([atom.coords for atom in mol.atoms]))"
   ],
   "outputs": [
    {
     "output_type": "stream",
     "name": "stdout",
     "text": [
      "[[ 1.6410e-01 -1.3726e+00 -2.0000e-04]\n",
      " [-1.1066e+00 -8.2840e-01  1.0000e-04]\n",
      " [-1.2707e+00  5.4420e-01 -0.0000e+00]\n",
      " [-1.6410e-01  1.3726e+00  0.0000e+00]\n",
      " [ 1.1066e+00  8.2840e-01  6.0000e-04]\n",
      " [ 1.2707e+00 -5.4420e-01 -7.0000e-04]\n",
      " [ 2.9230e-01 -2.4449e+00  4.4000e-03]\n",
      " [-1.9712e+00 -1.4756e+00  0.0000e+00]\n",
      " [-2.2635e+00  9.6930e-01 -5.0000e-04]\n",
      " [-2.9230e-01  2.4449e+00 -8.0000e-04]\n",
      " [ 1.9712e+00  1.4756e+00 -1.0000e-04]\n",
      " [ 2.2635e+00 -9.6930e-01  2.0000e-04]]\n"
     ]
    }
   ],
   "metadata": {}
  },
  {
   "cell_type": "code",
   "execution_count": 29,
   "source": [
    "calc_delta = DelftaCalculator(tasks=\"all\", delta=True, xtbopt=True) \n",
    "predictions_delta = calc_delta.predict(mol)"
   ],
   "outputs": [
    {
     "output_type": "stream",
     "name": "stderr",
     "text": [
      "2021/07/15 01:40:29 PM | DelFTa | INFO: Now running xTB...\n",
      "100%|██████████| 1/1 [00:00<00:00,  8.98it/s]\n",
      "2021/07/15 01:40:29 PM | DelFTa | INFO: Now running network for model multitask_delta...\n",
      "100%|██████████| 1/1 [00:00<00:00, 50.63it/s]\n",
      "2021/07/15 01:40:29 PM | DelFTa | INFO: Now running network for model single_energy_delta...\n",
      "100%|██████████| 1/1 [00:00<00:00, 56.15it/s]\n",
      "2021/07/15 01:40:29 PM | DelFTa | INFO: Now running network for model charges_delta...\n",
      "100%|██████████| 1/1 [00:00<00:00, 67.94it/s]\n"
     ]
    }
   ],
   "metadata": {}
  },
  {
   "cell_type": "code",
   "execution_count": 31,
   "source": [
    "print(np.array([atom.coords for atom in mol.atoms]))"
   ],
   "outputs": [
    {
     "output_type": "stream",
     "name": "stdout",
     "text": [
      "[[ 1.6410e-01 -1.3726e+00 -2.0000e-04]\n",
      " [-1.1066e+00 -8.2840e-01  1.0000e-04]\n",
      " [-1.2707e+00  5.4420e-01 -0.0000e+00]\n",
      " [-1.6410e-01  1.3726e+00  0.0000e+00]\n",
      " [ 1.1066e+00  8.2840e-01  6.0000e-04]\n",
      " [ 1.2707e+00 -5.4420e-01 -7.0000e-04]\n",
      " [ 2.9230e-01 -2.4449e+00  4.4000e-03]\n",
      " [-1.9712e+00 -1.4756e+00  0.0000e+00]\n",
      " [-2.2635e+00  9.6930e-01 -5.0000e-04]\n",
      " [-2.9230e-01  2.4449e+00 -8.0000e-04]\n",
      " [ 1.9712e+00  1.4756e+00 -1.0000e-04]\n",
      " [ 2.2635e+00 -9.6930e-01  2.0000e-04]]\n"
     ]
    }
   ],
   "metadata": {}
  },
  {
   "cell_type": "code",
   "execution_count": null,
   "source": [],
   "outputs": [],
   "metadata": {}
  }
 ],
 "metadata": {
  "orig_nbformat": 4,
  "language_info": {
   "name": "python"
  }
 },
 "nbformat": 4,
 "nbformat_minor": 2
}