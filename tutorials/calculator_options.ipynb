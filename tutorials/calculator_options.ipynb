{
 "cells": [
  {
   "cell_type": "markdown",
   "source": [
    "# Advanced options for the DelftaCalculator"
   ],
   "metadata": {}
  },
  {
   "cell_type": "markdown",
   "source": [
    "This tutorials looks a bit more in-depth at the different options you can pass to the DelftaCalculator. You can refer to the basic tutorial ([delta_vs_direct.ipynb](delta_vs_direct.ipynb)) to get started with the default settings. Again, we'll start with imports: "
   ],
   "metadata": {}
  },
  {
   "cell_type": "code",
   "execution_count": 1,
   "source": [
    "from openbabel.pybel import readstring\n",
    "import pandas as pd\n",
    "from delfta.calculator import DelftaCalculator"
   ],
   "outputs": [],
   "metadata": {}
  },
  {
   "cell_type": "markdown",
   "source": [
    "The options for the calculator (with their respective defaults) are `tasks=None`, `delta=True`, `force3d=True`, `addh=True`, `xtbopt=False`, `verbose=True`, and `progress=True`, `return_optmols=False`, and `models=None`. `verbose` and `progress` just modify how much you see during the computation, but not the computation itself. Let's look at the other options in detail."
   ],
   "metadata": {}
  },
  {
   "cell_type": "markdown",
   "source": [
    "## Tasks"
   ],
   "metadata": {}
  },
  {
   "cell_type": "markdown",
   "source": [
    "This defines which properties the calculator should predict. You can either pass a list with any combination of the following keys, or simply leave the default (`None`) to get all the values. \n",
    "\n",
    "| Property                                      | Key         | Unit  |\n",
    "|-----------------------------------------------|-------------|-------|\n",
    "| Formation energy                              | `\"E_form\"`  | $E_h$ |\n",
    "| Energy of highest occupied molecular orbital  | `\"E_homo\"`  | $E_h$ |\n",
    "| Energy of lowest unoccupied molecular orbital | `\"E_lumo\"`  | $E_h$ |\n",
    "| HOMO-LUMO gap                                 | `\"E_gap\"`   | $E_h$ |\n",
    "| Molecular dipole                              | `\"dipole\"`  | D     |\n",
    "| Mulliken partial charges                      | `\"charges\"` | $e$   |\n",
    "| Wiberg bond orders                            | `\"wbo\"`     | -     |\n",
    "\n",
    "Note that xTB needs to be run only once for all of them (if `delta=True`, see later), and that HOMO/LUMO/gap energies and the dipole are predicted in a multi-task setting (all via the same network), so the computational cost does not scale linearly with the number of requested properties. \n",
    "\n"
   ],
   "metadata": {}
  },
  {
   "cell_type": "markdown",
   "source": [
    "## delta"
   ],
   "metadata": {}
  },
  {
   "cell_type": "markdown",
   "source": [
    "This defines whether or not to use the $\\Delta$-prediction approach, *i.e.*, whether to compute the requested values with the semi-empirical GFN2-xTB method, and use the network to predict a correction to this value to obtain an approximation of the DFT value ($\\omega$B97X-D/def2-SVP). This is the default (`delta=True`), but you can set it to `False` to directly predict the requested properties from the molecular structure. This removes the need to compute xTB and thus speeds up the process a little bit (though this only makes a noticable differences when you run the calculator for large numbers of molecules)."
   ],
   "metadata": {}
  },
  {
   "cell_type": "markdown",
   "source": [
    "## force3d"
   ],
   "metadata": {}
  },
  {
   "cell_type": "markdown",
   "source": [
    "This defines whether you want to use the Merck Molecular Force Field 94 (MMFF94) as implemented in Openbabel to create 3D coordinates for molecules that don't have them. All the quantum mechanical properties that `DelftaCalculator` provides depend on the molecular geometry, so you really shouldn't be passing a 2D molecule and expect reasonable results (of course flat structures like benzene are fine). This defaults to `force3d=True`, and will not affect any molecules you pass that already have a 3D geometry. "
   ],
   "metadata": {}
  },
  {
   "cell_type": "markdown",
   "source": [
    "## addh"
   ],
   "metadata": {}
  },
  {
   "cell_type": "markdown",
   "source": [
    "This defines whether you want to add hydrogens to the molecule. If enabled, we're using Openbabel to check if there's hydrogens missing, and add them accordingly. Just as with `force3d`, it's important to include hydrogens in the molecule rather than using only the heavy atoms in the quantum mechanical calculations/predictions. Note that hydrogens are often omited in SMILES notation. This option also defaults to `addh=True` and won't affect any molecules that already have explicit hydrogens added. "
   ],
   "metadata": {}
  },
  {
   "cell_type": "markdown",
   "source": [
    "## xtbopt & return_optmols"
   ],
   "metadata": {}
  },
  {
   "cell_type": "markdown",
   "source": [
    "This option lets you use GFN2-xTB to optimize the 3D structure of a molecule. This can be useful if you created the conformation with a force field (or used `force3d` to do this), but want to optimize the structure a bit more thoroughly with a more precise method. Let's run the calculator twice, once generating coordinates using the MMFF94 force field, and once adding the GFN2-xTB geometry optimization to the pipeline as well."
   ],
   "metadata": {}
  },
  {
   "cell_type": "code",
   "execution_count": 2,
   "source": [
    "smiles = \"O=C(C)Oc1ccccc1C(=O)O\" # aspirin\n",
    "mol = readstring(\"smi\", smiles)\n",
    "calc_delta = DelftaCalculator(delta=True, xtbopt=False, return_optmols=True) \n",
    "predictions_delta_mmff94, opt_mols_mmff94 = calc_delta.predict(mol)\n",
    "opt_mol_mmff94 = opt_mols_mmff94[0]\n",
    "\n",
    "calc_delta = DelftaCalculator(delta=True, xtbopt=True, return_optmols=True) \n",
    "predictions_delta_xtb, opt_mols_xtb = calc_delta.predict(mol)\n",
    "opt_mol_xtb = opt_mols_xtb[0]"
   ],
   "outputs": [
    {
     "output_type": "stream",
     "name": "stderr",
     "text": [
      "2021/08/17 11:14:36 AM | DelFTa | INFO: Assigned MMFF94 coordinates and added hydrogens to molecules at position(s) [0]\n",
      "2021/08/17 11:14:36 AM | DelFTa | INFO: Now running xTB...\n",
      "100%|██████████| 1/1 [00:00<00:00, 24.79it/s]\n",
      "2021/08/17 11:14:36 AM | DelFTa | INFO: Now running network for model single_energy_delta...\n",
      "100%|██████████| 1/1 [00:00<00:00,  9.11it/s]\n",
      "2021/08/17 11:14:38 AM | DelFTa | INFO: Now running network for model charges_delta...\n",
      "100%|██████████| 1/1 [00:00<00:00, 158.51it/s]\n",
      "2021/08/17 11:14:38 AM | DelFTa | INFO: Now running network for model multitask_delta...\n",
      "100%|██████████| 1/1 [00:00<00:00, 144.89it/s]\n",
      "2021/08/17 11:14:38 AM | DelFTa | INFO: Now running network for model wbo_delta...\n",
      "100%|██████████| 1/1 [00:00<00:00, 155.81it/s]\n",
      "2021/08/17 11:14:38 AM | DelFTa | INFO: Now running xTB...\n",
      "100%|██████████| 1/1 [00:00<00:00,  2.26it/s]\n",
      "2021/08/17 11:14:38 AM | DelFTa | INFO: Now running network for model single_energy_delta...\n",
      "100%|██████████| 1/1 [00:00<00:00, 138.02it/s]\n",
      "2021/08/17 11:14:38 AM | DelFTa | INFO: Now running network for model charges_delta...\n",
      "100%|██████████| 1/1 [00:00<00:00, 162.99it/s]\n",
      "2021/08/17 11:14:38 AM | DelFTa | INFO: Now running network for model multitask_delta...\n",
      "100%|██████████| 1/1 [00:00<00:00, 159.61it/s]\n",
      "2021/08/17 11:14:38 AM | DelFTa | INFO: Now running network for model wbo_delta...\n",
      "100%|██████████| 1/1 [00:00<00:00, 163.94it/s]\n"
     ]
    }
   ],
   "metadata": {}
  },
  {
   "cell_type": "markdown",
   "source": [
    "Next, we'll visualize both outputs (interactive, so feel free to move around the molecules). As you can see, there are some small differences between the results of both methods, and for more complicated or flexible molecules, there's a chance those will be larger. Note that the interactive visualizations may not be available online - simply download a version of the notebook to your machine to try it out. "
   ],
   "metadata": {}
  },
  {
   "cell_type": "code",
   "execution_count": 3,
   "source": [
    "import py3Dmol\n",
    "size=(1000,500)\n",
    "view = py3Dmol.view(width=size[0], height=size[1], linked=True, viewergrid=(1,2))\n",
    "view.removeAllModels()\n",
    "view.addModel(opt_mol_mmff94.write(\"xyz\"), \"xyz\", viewer=(0,0))\n",
    "view.addModel(opt_mol_xtb.write(\"xyz\"), \"xyz\", viewer=(0,1))\n",
    "view.addLabel(\"MMFF94\", {\"position\":{\"x\":3,\"y\":-3,\"z\":0.0}}, viewer=(0,0))\n",
    "view.addLabel(\"GFN2-xTB\", {\"position\":{\"x\":3,\"y\":-3,\"z\":0.0}}, viewer=(0,1))\n",
    "view.setStyle({'stick':{}})\n",
    "view.zoomTo()\n",
    "view.show()"
   ],
   "outputs": [
    {
     "output_type": "display_data",
     "data": {
      "text/html": [
       "<div id=\"3dmolviewer_16291916790218453\"  style=\"position: relative; width: 1000px; height: 500px\">\n",
       "        <p id=\"3dmolwarning_16291916790218453\" style=\"background-color:#ffcccc;color:black\">You appear to be running in JupyterLab (or JavaScript failed to load for some other reason).  You need to install the 3dmol extension: <br>\n",
       "        <tt>jupyter labextension install jupyterlab_3dmol</tt></p>\n",
       "        </div>\n",
       "<script>\n",
       "\n",
       "var loadScriptAsync = function(uri){\n",
       "  return new Promise((resolve, reject) => {\n",
       "    var tag = document.createElement('script');\n",
       "    tag.src = uri;\n",
       "    tag.async = true;\n",
       "    tag.onload = () => {\n",
       "      resolve();\n",
       "    };\n",
       "  var firstScriptTag = document.getElementsByTagName('script')[0];\n",
       "  firstScriptTag.parentNode.insertBefore(tag, firstScriptTag);\n",
       "});\n",
       "};\n",
       "\n",
       "if(typeof $3Dmolpromise === 'undefined') {\n",
       "$3Dmolpromise = null;\n",
       "  $3Dmolpromise = loadScriptAsync('https://3dmol.org/build/3Dmol.js');\n",
       "}\n",
       "\n",
       "var viewer_16291916790218453 = null;\n",
       "var warn = document.getElementById(\"3dmolwarning_16291916790218453\");\n",
       "if(warn) {\n",
       "    warn.parentNode.removeChild(warn);\n",
       "}\n",
       "$3Dmolpromise.then(function() {\n",
       "var viewergrid_16291916790218453 = null;\n",
       "viewergrid_16291916790218453 = $3Dmol.createViewerGrid($(\"#3dmolviewer_16291916790218453\"),{rows: 1, cols: 2, control_all: true},{backgroundColor:\"white\"});\n",
       "viewer_16291916790218453 = viewergrid_16291916790218453[0][0];\n",
       "viewergrid_16291916790218453[0][0].zoomTo();viewergrid_16291916790218453[0][1].zoomTo();\tviewergrid_16291916790218453[0][0].removeAllModels();\n",
       "\tviewergrid_16291916790218453[0][1].removeAllModels();\n",
       "\tviewergrid_16291916790218453[0][0].addModel(\"21\\n\\nO          1.04148       -0.09629        0.09422\\nC          2.26535       -0.20632        0.08035\\nC          2.99071       -0.89786       -1.05495\\nO          3.03507        0.28224        1.13722\\nC          4.42626        0.53787        1.11686\\nC          5.11853        0.13134        2.27161\\nC          6.49908        0.30769        2.34975\\nC          7.19138        0.78270        1.23959\\nC          6.49327        1.20775        0.10504\\nC          5.09356        1.17674        0.06243\\nC          4.45559        1.74703       -1.15624\\nO          5.01789        1.84649       -2.24272\\nO          3.13393        1.94911       -1.04394\\nH          3.65878       -0.28388       -1.64824\\nH          3.55834       -1.75269       -0.69708\\nH          2.23807       -1.20147       -1.78731\\nH          4.59277       -0.32417        3.10936\\nH          7.03873        0.06494        3.26348\\nH          8.27724        0.83837        1.25822\\nH          7.05103        1.57499       -0.75384\\nH          2.74319        1.84285       -1.94135\\n\",\"xyz\");\n",
       "\tviewergrid_16291916790218453[0][1].addModel(\"21\\n\\nO          1.09320       -0.15910        0.05790\\nC          2.28620       -0.22960        0.08060\\nC          3.09900       -1.18020       -0.76510\\nO          2.97310        0.54880        0.94790\\nC          4.34590        0.61290        0.96960\\nC          4.99950        0.06750        2.06870\\nC          6.37650        0.13670        2.17280\\nC          7.12120        0.74030        1.17110\\nC          6.47960        1.28600        0.07790\\nC          5.09030        1.24320       -0.03540\\nC          4.49130        1.88520       -1.23440\\nO          5.10900        2.11610       -2.24400\\nO          3.20010        2.19540       -1.09500\\nH          3.65640       -0.63500       -1.52420\\nH          3.80840       -1.72580       -0.14530\\nH          2.42200       -1.87360       -1.25530\\nH          4.40640       -0.40480        2.83680\\nH          6.86840       -0.28740        3.03530\\nH          8.19630        0.78780        1.24670\\nH          7.03440        1.76630       -0.71380\\nH          2.86310        2.63650       -1.89030\\n\",\"xyz\");\n",
       "\tviewergrid_16291916790218453[0][0].addLabel(\"MMFF94\",{\"position\": {\"x\": 3, \"y\": -3, \"z\": 0.0}});\n",
       "\tviewergrid_16291916790218453[0][1].addLabel(\"GFN2-xTB\",{\"position\": {\"x\": 3, \"y\": -3, \"z\": 0.0}});\n",
       "\tviewergrid_16291916790218453[0][0].setStyle({\"stick\": {}});\n",
       "\tviewergrid_16291916790218453[0][1].setStyle({\"stick\": {}});\n",
       "\tviewergrid_16291916790218453[0][0].zoomTo();\n",
       "\tviewergrid_16291916790218453[0][1].zoomTo();\n",
       "viewergrid_16291916790218453[0][1].render();\n",
       "viewergrid_16291916790218453[0][0].render();\n",
       "});\n",
       "</script>"
      ],
      "application/3dmoljs_load.v0": "<div id=\"3dmolviewer_16291916790218453\"  style=\"position: relative; width: 1000px; height: 500px\">\n        <p id=\"3dmolwarning_16291916790218453\" style=\"background-color:#ffcccc;color:black\">You appear to be running in JupyterLab (or JavaScript failed to load for some other reason).  You need to install the 3dmol extension: <br>\n        <tt>jupyter labextension install jupyterlab_3dmol</tt></p>\n        </div>\n<script>\n\nvar loadScriptAsync = function(uri){\n  return new Promise((resolve, reject) => {\n    var tag = document.createElement('script');\n    tag.src = uri;\n    tag.async = true;\n    tag.onload = () => {\n      resolve();\n    };\n  var firstScriptTag = document.getElementsByTagName('script')[0];\n  firstScriptTag.parentNode.insertBefore(tag, firstScriptTag);\n});\n};\n\nif(typeof $3Dmolpromise === 'undefined') {\n$3Dmolpromise = null;\n  $3Dmolpromise = loadScriptAsync('https://3dmol.org/build/3Dmol.js');\n}\n\nvar viewer_16291916790218453 = null;\nvar warn = document.getElementById(\"3dmolwarning_16291916790218453\");\nif(warn) {\n    warn.parentNode.removeChild(warn);\n}\n$3Dmolpromise.then(function() {\nvar viewergrid_16291916790218453 = null;\nviewergrid_16291916790218453 = $3Dmol.createViewerGrid($(\"#3dmolviewer_16291916790218453\"),{rows: 1, cols: 2, control_all: true},{backgroundColor:\"white\"});\nviewer_16291916790218453 = viewergrid_16291916790218453[0][0];\nviewergrid_16291916790218453[0][0].zoomTo();viewergrid_16291916790218453[0][1].zoomTo();\tviewergrid_16291916790218453[0][0].removeAllModels();\n\tviewergrid_16291916790218453[0][1].removeAllModels();\n\tviewergrid_16291916790218453[0][0].addModel(\"21\\n\\nO          1.04148       -0.09629        0.09422\\nC          2.26535       -0.20632        0.08035\\nC          2.99071       -0.89786       -1.05495\\nO          3.03507        0.28224        1.13722\\nC          4.42626        0.53787        1.11686\\nC          5.11853        0.13134        2.27161\\nC          6.49908        0.30769        2.34975\\nC          7.19138        0.78270        1.23959\\nC          6.49327        1.20775        0.10504\\nC          5.09356        1.17674        0.06243\\nC          4.45559        1.74703       -1.15624\\nO          5.01789        1.84649       -2.24272\\nO          3.13393        1.94911       -1.04394\\nH          3.65878       -0.28388       -1.64824\\nH          3.55834       -1.75269       -0.69708\\nH          2.23807       -1.20147       -1.78731\\nH          4.59277       -0.32417        3.10936\\nH          7.03873        0.06494        3.26348\\nH          8.27724        0.83837        1.25822\\nH          7.05103        1.57499       -0.75384\\nH          2.74319        1.84285       -1.94135\\n\",\"xyz\");\n\tviewergrid_16291916790218453[0][1].addModel(\"21\\n\\nO          1.09320       -0.15910        0.05790\\nC          2.28620       -0.22960        0.08060\\nC          3.09900       -1.18020       -0.76510\\nO          2.97310        0.54880        0.94790\\nC          4.34590        0.61290        0.96960\\nC          4.99950        0.06750        2.06870\\nC          6.37650        0.13670        2.17280\\nC          7.12120        0.74030        1.17110\\nC          6.47960        1.28600        0.07790\\nC          5.09030        1.24320       -0.03540\\nC          4.49130        1.88520       -1.23440\\nO          5.10900        2.11610       -2.24400\\nO          3.20010        2.19540       -1.09500\\nH          3.65640       -0.63500       -1.52420\\nH          3.80840       -1.72580       -0.14530\\nH          2.42200       -1.87360       -1.25530\\nH          4.40640       -0.40480        2.83680\\nH          6.86840       -0.28740        3.03530\\nH          8.19630        0.78780        1.24670\\nH          7.03440        1.76630       -0.71380\\nH          2.86310        2.63650       -1.89030\\n\",\"xyz\");\n\tviewergrid_16291916790218453[0][0].addLabel(\"MMFF94\",{\"position\": {\"x\": 3, \"y\": -3, \"z\": 0.0}});\n\tviewergrid_16291916790218453[0][1].addLabel(\"GFN2-xTB\",{\"position\": {\"x\": 3, \"y\": -3, \"z\": 0.0}});\n\tviewergrid_16291916790218453[0][0].setStyle({\"stick\": {}});\n\tviewergrid_16291916790218453[0][1].setStyle({\"stick\": {}});\n\tviewergrid_16291916790218453[0][0].zoomTo();\n\tviewergrid_16291916790218453[0][1].zoomTo();\nviewergrid_16291916790218453[0][1].render();\nviewergrid_16291916790218453[0][0].render();\n});\n</script>"
     },
     "metadata": {}
    }
   ],
   "metadata": {}
  },
  {
   "cell_type": "markdown",
   "source": [
    "Let's also take a brief look at the resulting predictions for both geometries:"
   ],
   "metadata": {}
  },
  {
   "cell_type": "code",
   "execution_count": 4,
   "source": [
    "res_mmff94 = {key: val[0] for key, val in predictions_delta_mmff94.items() if key not in [\"charges\", \"wbo\"]}\n",
    "res_xtb = {key: val[0] for key, val in predictions_delta_xtb.items() if key not in [\"charges\", \"wbo\"]}\n",
    "pd.DataFrame.from_dict({\"MMFF94\": res_mmff94, \"GFN2-xTB\": res_xtb})\n"
   ],
   "outputs": [
    {
     "output_type": "execute_result",
     "data": {
      "text/plain": [
       "          MMFF94  GFN2-xTB\n",
       "E_form -3.869898 -3.895653\n",
       "E_homo -0.345097 -0.343340\n",
       "E_lumo -0.011147  0.000587\n",
       "E_gap   0.333909  0.343828\n",
       "dipole  3.698956  3.716143"
      ],
      "text/html": [
       "<div>\n",
       "<style scoped>\n",
       "    .dataframe tbody tr th:only-of-type {\n",
       "        vertical-align: middle;\n",
       "    }\n",
       "\n",
       "    .dataframe tbody tr th {\n",
       "        vertical-align: top;\n",
       "    }\n",
       "\n",
       "    .dataframe thead th {\n",
       "        text-align: right;\n",
       "    }\n",
       "</style>\n",
       "<table border=\"1\" class=\"dataframe\">\n",
       "  <thead>\n",
       "    <tr style=\"text-align: right;\">\n",
       "      <th></th>\n",
       "      <th>MMFF94</th>\n",
       "      <th>GFN2-xTB</th>\n",
       "    </tr>\n",
       "  </thead>\n",
       "  <tbody>\n",
       "    <tr>\n",
       "      <th>E_form</th>\n",
       "      <td>-3.869898</td>\n",
       "      <td>-3.895653</td>\n",
       "    </tr>\n",
       "    <tr>\n",
       "      <th>E_homo</th>\n",
       "      <td>-0.345097</td>\n",
       "      <td>-0.343340</td>\n",
       "    </tr>\n",
       "    <tr>\n",
       "      <th>E_lumo</th>\n",
       "      <td>-0.011147</td>\n",
       "      <td>0.000587</td>\n",
       "    </tr>\n",
       "    <tr>\n",
       "      <th>E_gap</th>\n",
       "      <td>0.333909</td>\n",
       "      <td>0.343828</td>\n",
       "    </tr>\n",
       "    <tr>\n",
       "      <th>dipole</th>\n",
       "      <td>3.698956</td>\n",
       "      <td>3.716143</td>\n",
       "    </tr>\n",
       "  </tbody>\n",
       "</table>\n",
       "</div>"
      ]
     },
     "metadata": {},
     "execution_count": 4
    }
   ],
   "metadata": {}
  },
  {
   "cell_type": "markdown",
   "source": [
    "## models"
   ],
   "metadata": {}
  },
  {
   "cell_type": "markdown",
   "source": [
    "Here you can pass a list of paths to specific model checkpoints, if you want to use those instead of the default production models. The most straight-forward use case for this would be if you want to try out models trained on different training set sizes (which you can download from the link in the README.) Alternatively, if you trained your own models, you can pass those here as well. You can only set `tasks` or `models` manually, but not both, and if you set `models`, the corresponding `tasks` will be infered from the model names. Also make sure that you're passing the correct `delta` argument for the models you're using. Unless you modify the file yourself (`delfta/models/norm.pt`), the normalization values for the entire dataset will be used. Normalization values for the training set only are available together with the models for different training set sizes. "
   ],
   "metadata": {}
  },
  {
   "cell_type": "markdown",
   "source": [],
   "metadata": {}
  }
 ],
 "metadata": {
  "orig_nbformat": 4,
  "language_info": {
   "name": "python",
   "version": "3.7.4",
   "mimetype": "text/x-python",
   "codemirror_mode": {
    "name": "ipython",
    "version": 3
   },
   "pygments_lexer": "ipython3",
   "nbconvert_exporter": "python",
   "file_extension": ".py"
  },
  "kernelspec": {
   "name": "python3",
   "display_name": "Python 3.7.4 64-bit ('delfta': conda)"
  },
  "interpreter": {
   "hash": "6e3f0e0686e4e7c699d1571d1296d5e4355a8e109c70abfba87c453ed20075c6"
  }
 },
 "nbformat": 4,
 "nbformat_minor": 2
}