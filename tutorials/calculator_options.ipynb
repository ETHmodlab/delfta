{
 "cells": [
  {
   "cell_type": "markdown",
   "source": [
    "# Advanced options for the DelftaCalculator"
   ],
   "metadata": {}
  },
  {
   "cell_type": "markdown",
   "source": [
    "This tutorials looks a bit more in-depth at the different options you can pass to the DelftaCalculator. You can refer to the basic tutorial ([delta_vs_direct.ipynb](delta_vs_direct.ipynb)) to get started with the default settings. Again, we'll start with imports: "
   ],
   "metadata": {}
  },
  {
   "cell_type": "code",
   "execution_count": 65,
   "source": [
    "import os\n",
    "import glob\n",
    "from openbabel.pybel import readfile, readstring\n",
    "import numpy as np\n",
    "import py3Dmol\n",
    "import pandas as pd\n",
    "from delfta.calculator import DelftaCalculator\n",
    "from delfta.utils import TESTS_PATH, ROOT_PATH"
   ],
   "outputs": [],
   "metadata": {}
  },
  {
   "cell_type": "markdown",
   "source": [
    "The options for the calculator (with their respective defaults) are `tasks=\"all\"`, `delta=True`, `force3d=True`, `addh=True`, `xtbopt=False`, `verbose=True`, and `progress=True`, and `return_optmols=False`. `verbose` and `progress` just modify how much you see during the computation, but not the computation itself. Let's look at the other options in detail."
   ],
   "metadata": {}
  },
  {
   "cell_type": "markdown",
   "source": [
    "## Tasks"
   ],
   "metadata": {}
  },
  {
   "cell_type": "markdown",
   "source": [
    "This defines which properties the calculator should predict. You can either pass a list with any combination of the following keys, or simply `\"all\"` (the default) to get all the values. \n",
    "\n",
    "| Property                                      | Key         | Unit  |\n",
    "|-----------------------------------------------|-------------|-------|\n",
    "| Formation energy                              | `\"E_form\"`  | $E_h$ |\n",
    "| Energy of highest occupied molecular orbital  | `\"E_homo\"`  | $E_h$ |\n",
    "| Energy of lowest unoccupied molecular orbital | `\"E_lumo\"`  | $E_h$ |\n",
    "| HOMO-LUMO gap                                 | `\"E_gap\"`   | $E_h$ |\n",
    "| Molecular dipole                              | `\"dipole\"`  | D     |\n",
    "| Mulliken partial charges                      | `\"charges\"` | $e$   |\n",
    "| Wiberg bond orders                            | `\"wbo\"`     | -     |\n",
    "\n",
    "Note that xTB needs to be run only once for all of them (if `delta=True`, see later), and that HOMO/LUMO/gap energies and the dipole are predicted in a multi-task setting (all via the same network), so the computational cost does not scale linearly with the number of requested properties. \n",
    "\n"
   ],
   "metadata": {}
  },
  {
   "cell_type": "markdown",
   "source": [
    "## delta"
   ],
   "metadata": {}
  },
  {
   "cell_type": "markdown",
   "source": [
    "This defines whether or not to use the $\\Delta$-prediction approach, *i.e.*, whether to compute the requested values with the semi-empirical GFN2-xTB method, and use the network to predict a correction to this value to obtain an approximation of the DFT value ($\\omega$B97X-D/def2-SVP). This is the default (`delta=True`), but you can set it to `False` to directly predict the requested properties from the molecular structure. This removes the need to compute xTB and thus speeds up the process a little bit (though this only makes a noticable differences when you run the calculator for large numbers of molecules)."
   ],
   "metadata": {}
  },
  {
   "cell_type": "markdown",
   "source": [
    "## force3d"
   ],
   "metadata": {}
  },
  {
   "cell_type": "markdown",
   "source": [
    "This defines whether you want to use the Merck Molecular Force Field 94 (MMFF94) as implemented in Openbabel to create 3D coordinates for molecules that don't have them. All the quantum mechanical properties that `DelftaCalculator` provides depend on the molecular geometry, so you really shouldn't be passing a 2D molecule and expect reasonable results (of course flat structures like benzene are fine). This defaults to `force3d=True`, and will not affect any molecules you pass that already have a 3D geometry. "
   ],
   "metadata": {}
  },
  {
   "cell_type": "markdown",
   "source": [
    "## addh"
   ],
   "metadata": {}
  },
  {
   "cell_type": "markdown",
   "source": [
    "This defines whether you want to add hydrogens to the molecule. If enabled, we're using Openbabel to check if there's hydrogens missing, and add them accordingly. Just as with `force3d`, it's important to include hydrogens in the molecule rather than using only the heavy atoms in the quantum mechanical calculations/predictions. Note that hydrogens are often omited in SMILES notation. This option also defaults to `addh=True` and won't affect any molecules that already have explicit hydrogens added. "
   ],
   "metadata": {}
  },
  {
   "cell_type": "markdown",
   "source": [
    "## xtbopt & return_optmols"
   ],
   "metadata": {}
  },
  {
   "cell_type": "markdown",
   "source": [
    "This option lets you use GFN2-xTB to optimize the 3D structure of a molecule. This can be useful if you created the conformation with a force field (or used `force3d` to do this), but want to optimize the structure a bit more thoroughly with a more precise method. Let's run the calculator twice, once generating coordinates using the MMFF94 force field, and once adding the GFN2-xTB geometry optimization to the pipeline as well."
   ],
   "metadata": {}
  },
  {
   "cell_type": "code",
   "execution_count": 63,
   "source": [
    "smiles = \"O=C(C)Oc1ccccc1C(=O)O\" # aspirin\n",
    "mol = readstring(\"smi\", smiles)\n",
    "calc_delta = DelftaCalculator(tasks=\"all\", delta=True, xtbopt=False, return_optmols=True) \n",
    "predictions_delta_mmff94, opt_mols_mmff94 = calc_delta.predict(mol)\n",
    "opt_mol_mmff94 = opt_mols_mmff94[0]\n",
    "\n",
    "calc_delta = DelftaCalculator(tasks=\"all\", delta=True, xtbopt=True, return_optmols=True) \n",
    "predictions_delta_xtb, opt_mols_xtb = calc_delta.predict(mol)\n",
    "opt_mol_xtb = opt_mols_xtb[0]"
   ],
   "outputs": [
    {
     "output_type": "stream",
     "name": "stderr",
     "text": [
      "2021/07/19 04:56:50 PM | DelFTa | INFO: Assigned MMFF94 coordinates and added hydrogens to molecules at position(s) [0]\n",
      "2021/07/19 04:56:50 PM | DelFTa | INFO: Now running xTB...\n",
      "100%|██████████| 1/1 [00:00<00:00,  6.70it/s]\n",
      "2021/07/19 04:56:50 PM | DelFTa | INFO: Now running network for model multitask_delta...\n",
      "100%|██████████| 1/1 [00:00<00:00,  6.95it/s]\n",
      "2021/07/19 04:56:51 PM | DelFTa | INFO: Now running network for model charges_delta...\n",
      "100%|██████████| 1/1 [00:00<00:00, 27.26it/s]\n",
      "2021/07/19 04:56:51 PM | DelFTa | INFO: Now running network for model single_energy_delta...\n",
      "100%|██████████| 1/1 [00:00<00:00, 20.45it/s]\n",
      "2021/07/19 04:56:51 PM | DelFTa | INFO: Now running xTB...\n",
      "100%|██████████| 1/1 [00:01<00:00,  1.17s/it]\n",
      "2021/07/19 04:56:52 PM | DelFTa | INFO: Now running network for model multitask_delta...\n",
      "100%|██████████| 1/1 [00:00<00:00, 31.99it/s]\n",
      "2021/07/19 04:56:52 PM | DelFTa | INFO: Now running network for model charges_delta...\n",
      "100%|██████████| 1/1 [00:00<00:00, 36.55it/s]\n",
      "2021/07/19 04:56:52 PM | DelFTa | INFO: Now running network for model single_energy_delta...\n",
      "100%|██████████| 1/1 [00:00<00:00, 38.10it/s]\n"
     ]
    }
   ],
   "metadata": {}
  },
  {
   "cell_type": "markdown",
   "source": [
    "Next, we'll visualize both outputs (interactive, so feel free to move around the molecules). As you can see, there are some small differences between the results of both methods, and for more complicated or flexible molecules, there's a good chance those will be larger. "
   ],
   "metadata": {}
  },
  {
   "cell_type": "code",
   "execution_count": 62,
   "source": [
    "size=(1000,500)\n",
    "view = py3Dmol.view(width=size[0], height=size[1], linked=True, viewergrid=(1,2))\n",
    "view.removeAllModels()\n",
    "view.addModel(opt_mol_mmff94.write(\"xyz\"), \"xyz\", viewer=(0,0))\n",
    "view.addModel(opt_mol_xtb.write(\"xyz\"), \"xyz\", viewer=(0,1))\n",
    "view.addLabel(\"MMFF94\", {\"position\":{\"x\":3,\"y\":-3,\"z\":0.0}}, viewer=(0,0))\n",
    "view.addLabel(\"GFN2-xTB\", {\"position\":{\"x\":3,\"y\":-3,\"z\":0.0}}, viewer=(0,1))\n",
    "view.setStyle({'stick':{}})\n",
    "view.zoomTo()\n",
    "view.show()"
   ],
   "outputs": [
    {
     "output_type": "display_data",
     "data": {
      "application/3dmoljs_load.v0": "<div id=\"3dmolviewer_1626706576472172\"  style=\"position: relative; width: 1000px; height: 500px\">\n        <p id=\"3dmolwarning_1626706576472172\" style=\"background-color:#ffcccc;color:black\">You appear to be running in JupyterLab (or JavaScript failed to load for some other reason).  You need to install the 3dmol extension: <br>\n        <tt>jupyter labextension install jupyterlab_3dmol</tt></p>\n        </div>\n<script>\n\nvar loadScriptAsync = function(uri){\n  return new Promise((resolve, reject) => {\n    var tag = document.createElement('script');\n    tag.src = uri;\n    tag.async = true;\n    tag.onload = () => {\n      resolve();\n    };\n  var firstScriptTag = document.getElementsByTagName('script')[0];\n  firstScriptTag.parentNode.insertBefore(tag, firstScriptTag);\n});\n};\n\nif(typeof $3Dmolpromise === 'undefined') {\n$3Dmolpromise = null;\n  $3Dmolpromise = loadScriptAsync('https://3dmol.org/build/3Dmol.js');\n}\n\nvar viewer_1626706576472172 = null;\nvar warn = document.getElementById(\"3dmolwarning_1626706576472172\");\nif(warn) {\n    warn.parentNode.removeChild(warn);\n}\n$3Dmolpromise.then(function() {\nvar viewergrid_1626706576472172 = null;\nviewergrid_1626706576472172 = $3Dmol.createViewerGrid($(\"#3dmolviewer_1626706576472172\"),{rows: 1, cols: 2, control_all: true},{backgroundColor:\"white\"});\nviewer_1626706576472172 = viewergrid_1626706576472172[0][0];\nviewergrid_1626706576472172[0][0].zoomTo();viewergrid_1626706576472172[0][1].zoomTo();\tviewergrid_1626706576472172[0][0].removeAllModels();\n\tviewergrid_1626706576472172[0][1].removeAllModels();\n\tviewergrid_1626706576472172[0][0].addModel(\"21\\n\\nO          0.88280       -0.11000        0.01969\\nC          2.10667       -0.21600       -0.01290\\nC          2.83203       -0.70178       -1.25030\\nO          2.87639        0.08334        1.11229\\nC          4.26758        0.33866        1.13624\\nC          4.95985       -0.26059        2.20376\\nC          6.34040       -0.10032        2.31109\\nC          7.03269        0.55870        1.29928\\nC          6.33459        1.17271        0.25483\\nC          4.93488        1.14950        0.20753\\nC          4.29691        1.92106       -0.89478\\nO          4.85921        2.20607       -1.94792\\nO          2.97525        2.10080       -0.74937\\nH          3.50010        0.00517       -1.72905\\nH          3.39966       -1.60545       -1.04493\\nH          2.07939       -0.87478       -2.02400\\nH          4.43409       -0.85351        2.95060\\nH          6.88005       -0.49674        3.16940\\nH          8.11856        0.61034        1.32721\\nH          6.89235        1.68232       -0.52800\\nH          2.58451        2.15061       -1.65168\\n\",\"xyz\");\n\tviewergrid_1626706576472172[0][1].addModel(\"21\\n\\nO          0.93470       -0.16480       -0.02740\\nC          2.12770       -0.23870       -0.01690\\nC          2.94030       -1.02920       -1.01410\\nO          2.81460        0.37760        0.97200\\nC          4.18740        0.43740        1.00430\\nC          4.84120       -0.28860        1.99340\\nC          6.21820       -0.23780        2.10780\\nC          6.96270        0.52910        1.22470\\nC          6.32080        1.25440        0.24150\\nC          4.93150        1.23130        0.12270\\nC          4.33210        2.06980       -0.94800\\nO          4.94920        2.46980       -1.90380\\nO          3.04120        2.35240       -0.75640\\nH          3.50030       -0.36140       -1.66610\\nH          3.64770       -1.67590       -0.49710\\nH          2.26280       -1.62570       -1.61840\\nH          4.24830       -0.88610        2.66880\\nH          6.71030       -0.80380        2.88460\\nH          8.03780        0.56320        1.30720\\nH          6.87550        1.86380       -0.45580\\nH          2.70390        2.92330       -1.46410\\n\",\"xyz\");\n\tviewergrid_1626706576472172[0][0].addLabel(\"MMFF94\",{\"position\": {\"x\": 3, \"y\": -3, \"z\": 0.0}});\n\tviewergrid_1626706576472172[0][1].addLabel(\"GFN2-xTB\",{\"position\": {\"x\": 3, \"y\": -3, \"z\": 0.0}});\n\tviewergrid_1626706576472172[0][0].setStyle({\"stick\": {}});\n\tviewergrid_1626706576472172[0][1].setStyle({\"stick\": {}});\n\tviewergrid_1626706576472172[0][0].zoomTo();\n\tviewergrid_1626706576472172[0][1].zoomTo();\nviewergrid_1626706576472172[0][1].render();\nviewergrid_1626706576472172[0][0].render();\n});\n</script>",
      "text/html": [
       "<div id=\"3dmolviewer_1626706576472172\"  style=\"position: relative; width: 1000px; height: 500px\">\n",
       "        <p id=\"3dmolwarning_1626706576472172\" style=\"background-color:#ffcccc;color:black\">You appear to be running in JupyterLab (or JavaScript failed to load for some other reason).  You need to install the 3dmol extension: <br>\n",
       "        <tt>jupyter labextension install jupyterlab_3dmol</tt></p>\n",
       "        </div>\n",
       "<script>\n",
       "\n",
       "var loadScriptAsync = function(uri){\n",
       "  return new Promise((resolve, reject) => {\n",
       "    var tag = document.createElement('script');\n",
       "    tag.src = uri;\n",
       "    tag.async = true;\n",
       "    tag.onload = () => {\n",
       "      resolve();\n",
       "    };\n",
       "  var firstScriptTag = document.getElementsByTagName('script')[0];\n",
       "  firstScriptTag.parentNode.insertBefore(tag, firstScriptTag);\n",
       "});\n",
       "};\n",
       "\n",
       "if(typeof $3Dmolpromise === 'undefined') {\n",
       "$3Dmolpromise = null;\n",
       "  $3Dmolpromise = loadScriptAsync('https://3dmol.org/build/3Dmol.js');\n",
       "}\n",
       "\n",
       "var viewer_1626706576472172 = null;\n",
       "var warn = document.getElementById(\"3dmolwarning_1626706576472172\");\n",
       "if(warn) {\n",
       "    warn.parentNode.removeChild(warn);\n",
       "}\n",
       "$3Dmolpromise.then(function() {\n",
       "var viewergrid_1626706576472172 = null;\n",
       "viewergrid_1626706576472172 = $3Dmol.createViewerGrid($(\"#3dmolviewer_1626706576472172\"),{rows: 1, cols: 2, control_all: true},{backgroundColor:\"white\"});\n",
       "viewer_1626706576472172 = viewergrid_1626706576472172[0][0];\n",
       "viewergrid_1626706576472172[0][0].zoomTo();viewergrid_1626706576472172[0][1].zoomTo();\tviewergrid_1626706576472172[0][0].removeAllModels();\n",
       "\tviewergrid_1626706576472172[0][1].removeAllModels();\n",
       "\tviewergrid_1626706576472172[0][0].addModel(\"21\\n\\nO          0.88280       -0.11000        0.01969\\nC          2.10667       -0.21600       -0.01290\\nC          2.83203       -0.70178       -1.25030\\nO          2.87639        0.08334        1.11229\\nC          4.26758        0.33866        1.13624\\nC          4.95985       -0.26059        2.20376\\nC          6.34040       -0.10032        2.31109\\nC          7.03269        0.55870        1.29928\\nC          6.33459        1.17271        0.25483\\nC          4.93488        1.14950        0.20753\\nC          4.29691        1.92106       -0.89478\\nO          4.85921        2.20607       -1.94792\\nO          2.97525        2.10080       -0.74937\\nH          3.50010        0.00517       -1.72905\\nH          3.39966       -1.60545       -1.04493\\nH          2.07939       -0.87478       -2.02400\\nH          4.43409       -0.85351        2.95060\\nH          6.88005       -0.49674        3.16940\\nH          8.11856        0.61034        1.32721\\nH          6.89235        1.68232       -0.52800\\nH          2.58451        2.15061       -1.65168\\n\",\"xyz\");\n",
       "\tviewergrid_1626706576472172[0][1].addModel(\"21\\n\\nO          0.93470       -0.16480       -0.02740\\nC          2.12770       -0.23870       -0.01690\\nC          2.94030       -1.02920       -1.01410\\nO          2.81460        0.37760        0.97200\\nC          4.18740        0.43740        1.00430\\nC          4.84120       -0.28860        1.99340\\nC          6.21820       -0.23780        2.10780\\nC          6.96270        0.52910        1.22470\\nC          6.32080        1.25440        0.24150\\nC          4.93150        1.23130        0.12270\\nC          4.33210        2.06980       -0.94800\\nO          4.94920        2.46980       -1.90380\\nO          3.04120        2.35240       -0.75640\\nH          3.50030       -0.36140       -1.66610\\nH          3.64770       -1.67590       -0.49710\\nH          2.26280       -1.62570       -1.61840\\nH          4.24830       -0.88610        2.66880\\nH          6.71030       -0.80380        2.88460\\nH          8.03780        0.56320        1.30720\\nH          6.87550        1.86380       -0.45580\\nH          2.70390        2.92330       -1.46410\\n\",\"xyz\");\n",
       "\tviewergrid_1626706576472172[0][0].addLabel(\"MMFF94\",{\"position\": {\"x\": 3, \"y\": -3, \"z\": 0.0}});\n",
       "\tviewergrid_1626706576472172[0][1].addLabel(\"GFN2-xTB\",{\"position\": {\"x\": 3, \"y\": -3, \"z\": 0.0}});\n",
       "\tviewergrid_1626706576472172[0][0].setStyle({\"stick\": {}});\n",
       "\tviewergrid_1626706576472172[0][1].setStyle({\"stick\": {}});\n",
       "\tviewergrid_1626706576472172[0][0].zoomTo();\n",
       "\tviewergrid_1626706576472172[0][1].zoomTo();\n",
       "viewergrid_1626706576472172[0][1].render();\n",
       "viewergrid_1626706576472172[0][0].render();\n",
       "});\n",
       "</script>"
      ]
     },
     "metadata": {}
    }
   ],
   "metadata": {}
  },
  {
   "cell_type": "markdown",
   "source": [
    "Let's also take a brief look at the resulting predictions for both geometries:"
   ],
   "metadata": {}
  },
  {
   "cell_type": "code",
   "execution_count": 76,
   "source": [
    "res_mmff94 = {key: val[0] for key, val in predictions_delta_mmff94.items() if key not in [\"charges\", \"wbo\"]}\n",
    "res_xtb = {key: val[0] for key, val in predictions_delta_xtb.items() if key not in [\"charges\", \"wbo\"]}\n",
    "pd.DataFrame.from_dict({\"MMFF94\": res_mmff94, \"GFN2-xTB\": res_xtb})\n"
   ],
   "outputs": [
    {
     "output_type": "execute_result",
     "data": {
      "text/plain": [
       "          MMFF94  GFN2-xTB\n",
       "E_homo -0.343186 -0.346909\n",
       "E_lumo -0.012434 -0.001731\n",
       "E_gap   0.330590  0.344870\n",
       "dipole  3.664130  3.693279\n",
       "E_form -4.906164 -4.931745"
      ],
      "text/html": [
       "<div>\n",
       "<style scoped>\n",
       "    .dataframe tbody tr th:only-of-type {\n",
       "        vertical-align: middle;\n",
       "    }\n",
       "\n",
       "    .dataframe tbody tr th {\n",
       "        vertical-align: top;\n",
       "    }\n",
       "\n",
       "    .dataframe thead th {\n",
       "        text-align: right;\n",
       "    }\n",
       "</style>\n",
       "<table border=\"1\" class=\"dataframe\">\n",
       "  <thead>\n",
       "    <tr style=\"text-align: right;\">\n",
       "      <th></th>\n",
       "      <th>MMFF94</th>\n",
       "      <th>GFN2-xTB</th>\n",
       "    </tr>\n",
       "  </thead>\n",
       "  <tbody>\n",
       "    <tr>\n",
       "      <th>E_homo</th>\n",
       "      <td>-0.343186</td>\n",
       "      <td>-0.346909</td>\n",
       "    </tr>\n",
       "    <tr>\n",
       "      <th>E_lumo</th>\n",
       "      <td>-0.012434</td>\n",
       "      <td>-0.001731</td>\n",
       "    </tr>\n",
       "    <tr>\n",
       "      <th>E_gap</th>\n",
       "      <td>0.330590</td>\n",
       "      <td>0.344870</td>\n",
       "    </tr>\n",
       "    <tr>\n",
       "      <th>dipole</th>\n",
       "      <td>3.664130</td>\n",
       "      <td>3.693279</td>\n",
       "    </tr>\n",
       "    <tr>\n",
       "      <th>E_form</th>\n",
       "      <td>-4.906164</td>\n",
       "      <td>-4.931745</td>\n",
       "    </tr>\n",
       "  </tbody>\n",
       "</table>\n",
       "</div>"
      ]
     },
     "metadata": {},
     "execution_count": 76
    }
   ],
   "metadata": {}
  },
  {
   "cell_type": "code",
   "execution_count": null,
   "source": [],
   "outputs": [],
   "metadata": {}
  }
 ],
 "metadata": {
  "orig_nbformat": 4,
  "language_info": {
   "name": "python"
  }
 },
 "nbformat": 4,
 "nbformat_minor": 2
}