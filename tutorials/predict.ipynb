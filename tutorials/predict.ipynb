{
 "cells": [
  {
   "cell_type": "markdown",
   "metadata": {},
   "source": [
    "# Python package"
   ]
  },
  {
   "cell_type": "markdown",
   "metadata": {},
   "source": [
    "We start with importing a few things we'll need. All required packages are installed during the setup process. "
   ]
  },
  {
   "cell_type": "code",
   "execution_count": 1,
   "metadata": {},
   "outputs": [],
   "source": [
    "import os\n",
    "import glob\n",
    "import pandas as pd\n",
    "import matplotlib.pyplot as plt\n",
    "from matplotlib.gridspec import GridSpec\n",
    "from matplotlib.lines import Line2D\n",
    "from openbabel.pybel import readfile\n",
    "import numpy as np\n",
    "\n",
    "from delfta.calculator import DelftaCalculator\n",
    "from delfta.utils import DATA_PATH"
   ]
  },
  {
   "cell_type": "markdown",
   "metadata": {},
   "source": [
    "Next, we read a few example molecules from SDFs (structure data files) from the QMugs dataset. For more details on how to input your own molecules, see the documentation of the Pybel API [here](https://open-babel.readthedocs.io/en/latest/UseTheLibrary/Python_PybelAPI.html)."
   ]
  },
  {
   "cell_type": "code",
   "execution_count": null,
   "metadata": {},
   "outputs": [],
   "source": [
    "mol_files = glob.glob(os.path.join(DATA_PATH, \"test_data\", \"*.sdf\"))\n",
    "mols = [next(readfile(\"sdf\", mol_file)) for mol_file in mol_files]"
   ]
  },
  {
   "cell_type": "markdown",
   "metadata": {},
   "source": [
    "We'll initialize a calculator by stating which tasks we want to perform. Options are `all` (the default), `E_form`, `E_homo`, `E_lumo`, `E_gap`, `dipole`, and `charges`. You can also choose between `delta=True` (run a GNF2-xTB calculation and predict a delta correction to obtain an approximation of the DFT-value (($\\omega$B97X-D/def2-SVP) or `delta=False` (predict the DFT-value directly from the molecular structure)."
   ]
  },
  {
   "cell_type": "code",
   "execution_count": null,
   "metadata": {},
   "outputs": [],
   "source": [
    "calc_delta = DelftaCalculator(tasks=[\"E_form\", \"E_homo\", \"E_lumo\", \"E_gap\", \"dipole\", \"charges\"], delta=True) \n",
    "# Verbose passing of arguments. We could've used \"all\" as well\n",
    "predictions_delta = calc_delta.predict(mols, batch_size=32) # lower the batch size if you run into memory issues\n",
    "calc_direct = DelftaCalculator(tasks=\"all\"], delta=False) \n",
    "# \"all\" means [\"E_form\", \"E_homo\", \"E_lumo\", \"E_gap\", \"dipole\", \"charges\"]\n",
    "predictions_direct = calc_direct.predict(mols)"
   ]
  },
  {
   "cell_type": "markdown",
   "metadata": {},
   "source": [
    "Let's put the output in a dataframe to get an overview: "
   ]
  },
  {
   "cell_type": "code",
   "execution_count": null,
   "metadata": {},
   "outputs": [],
   "source": [
    "df = pd.DataFrame(predictions_delta)\n",
    "df.insert(0, \"structure\", [os.path.basename(mol_file) for mol_file in mol_files])\n",
    "df.rename(columns={\"E_form\": \"E_form [Ha]\", \"E_homo\": \"E_homo [Ha]\", \"E_lumo\": \"E_lumo [Ha]\", \"E_gap\": \"E_gap [Ha]\", \"dipole\": \"dipole [D]\", \"charges\": \"charges [e]\"})"
   ]
  },
  {
   "cell_type": "markdown",
   "metadata": {},
   "source": [
    "Get the DFT-calculated values from the QMugs SDFs and prepare everything for plotting:"
   ]
  },
  {
   "cell_type": "code",
   "execution_count": null,
   "metadata": {},
   "outputs": [],
   "source": [
    "predictions_delta[\"charges\"] = np.concatenate(predictions_delta[\"charges\"])\n",
    "predictions_direct[\"charges\"] = np.concatenate(predictions_direct[\"charges\"])\n",
    "dft_keys = [\"DFT:FORMATION_ENERGY\", \"DFT:HOMO_ENERGY\", \"DFT:LUMO_ENERGY\", \"DFT:HOMO_LUMO_GAP\", \"DFT:DIPOLE\", \"DFT:MULLIKEN_CHARGES\"]\n",
    "dft_values = {}\n",
    "for dft_key in dft_keys:\n",
    "    if dft_key == \"DFT:DIPOLE\": \n",
    "        dft_values[dft_key] =  [float(mol.data[dft_key].split(\"|\")[-1]) for mol in mols]\n",
    "    elif dft_key == \"DFT:MULLIKEN_CHARGES\": \n",
    "        dft_values[dft_key] = [float(elem) for mol in mols for elem in mol.data[dft_key].split(\"|\")]\n",
    "    else:\n",
    "        dft_values[dft_key] = [float(mol.data[dft_key]) for mol in mols]\n",
    "\n"
   ]
  },
  {
   "cell_type": "code",
   "execution_count": null,
   "metadata": {},
   "outputs": [],
   "source": [
    "def make_plot(ax, dft_vals, pred_vals, label, unit, color): \n",
    "    ax.scatter(dft_vals, pred_vals, color=color, s=5)\n",
    "    ax.set_xlabel(\"DFT calculated\")\n",
    "    ax.set_ylabel(\"Predicted\")\n",
    "    min_val = [min(ax.get_ylim()[0], ax.get_xlim()[0])]\n",
    "    max_val = [max(ax.get_ylim()[1], ax.get_xlim()[1])]\n",
    "    ax.plot([min_val, max_val], [min_val, max_val], '--', color=\"black\", zorder=-1)\n",
    "    ax.set_aspect(\"equal\", \"box\")\n",
    "\n",
    "fig = plt.figure(figsize=(20, 12))\n",
    "gs = GridSpec(nrows=2, ncols=3)\n",
    "pred_keys = [\"E_form\", \"E_homo\", \"E_lumo\", \"E_gap\", \"dipole\", \"charges\"]\n",
    "all_dft_vals = [dft_values[dft_key] for dft_key in dft_keys]\n",
    "all_pred_vals_delta = [predictions_delta[pred_key] for pred_key in pred_keys]\n",
    "all_pred_vals_direct = [predictions_direct[pred_key] for pred_key in pred_keys]\n",
    "units = [\"Ha\", \"Ha\", \"Ha\", \"Ha\", \"D\", \"e\"]\n",
    "axes = [fig.add_subplot(gs[i,j]) for i in range(2) for j in range(3)]\n",
    "for ax, dft_vals, pred_vals_delta, pred_vals_direct, label, unit in zip(axes, all_dft_vals, all_pred_vals_delta, all_pred_vals_direct, pred_keys, units): \n",
    "    make_plot(ax, dft_vals, pred_vals_delta, label, unit, \"blue\")\n",
    "    make_plot(ax, dft_vals, pred_vals_direct, label, unit, \"orange\")\n",
    "    ax.title.set_text(f\"{label} / {unit}\")\n",
    "    ax.title.set_fontsize(16)\n",
    "\n",
    "handles = [Line2D([0], [0], marker='o', color=\"white\", markerfacecolor=\"blue\"), Line2D([0], [0], marker='o', color=\"white\", markerfacecolor=\"orange\")]\n",
    "fig.legend(handles, [\"delta\", \"direct\"], fontsize=16, loc=\"lower center\", ncol=2)"
   ]
  },
  {
   "cell_type": "markdown",
   "metadata": {},
   "source": [
    "As you can see... ADD SOME INTERPRETATION FOR FINAL MODEL"
   ]
  },
  {
   "cell_type": "markdown",
   "metadata": {},
   "source": [
    "You can also create molecules directly from SMILES. In that case, you need to set `force3D=True`, so that the Pybel generates a three-dimensional structure for the molecule using the MMFF94 force field. Alternatively, you can create three-dimensional coordinates in some other way and feed the molecule to the calculator afterwards."
   ]
  },
  {
   "cell_type": "code",
   "execution_count": null,
   "metadata": {},
   "outputs": [],
   "source": [
    "mols = [readstring(\"smi\", \"O=C(C)Oc1ccccc1C(=O)O\")] # aspirin\n",
    "# TODO --> add hydrogens\n",
    "calc = DelftaCalculator(tasks=\"all\", delta=True, force3D=True)\n",
    "preds_delta = calc.predict(mols)"
   ]
  },
  {
   "cell_type": "code",
   "execution_count": null,
   "metadata": {},
   "outputs": [],
   "source": []
  }
 ],
 "metadata": {
  "interpreter": {
   "hash": "6e3f0e0686e4e7c699d1571d1296d5e4355a8e109c70abfba87c453ed20075c6"
  },
  "kernelspec": {
   "display_name": "Python 3.7.4 64-bit ('delfta': conda)",
   "name": "python3"
  },
  "language_info": {
   "codemirror_mode": {
    "name": "ipython",
    "version": 3
   },
   "file_extension": ".py",
   "mimetype": "text/x-python",
   "name": "python",
   "nbconvert_exporter": "python",
   "pygments_lexer": "ipython3",
   "version": "3.7.4"
  },
  "orig_nbformat": 4
 },
 "nbformat": 4,
 "nbformat_minor": 2
}