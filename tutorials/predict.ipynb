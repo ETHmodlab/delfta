{
 "cells": [
  {
   "cell_type": "markdown",
   "metadata": {},
   "source": [
    "# Python package"
   ]
  },
  {
   "cell_type": "markdown",
   "metadata": {},
   "source": [
    "### import everything"
   ]
  },
  {
   "cell_type": "code",
   "execution_count": 1,
   "metadata": {},
   "outputs": [],
   "source": [
    "import os\n",
    "import pandas as pd\n",
    "from openbabel.pybel import readfile\n",
    "\n",
    "from delfta.calculator import DelftaCalculator\n",
    "from delfta.utils import DATA_PATH"
   ]
  },
  {
   "cell_type": "markdown",
   "metadata": {},
   "source": [
    "### create some pybel molecule objects"
   ]
  },
  {
   "cell_type": "code",
   "execution_count": 2,
   "metadata": {},
   "outputs": [],
   "source": [
    "chembl_ids = [\n",
    "    \"CHEMBL3108781_conf_01.sdf\",\n",
    "    \"CHEMBL3641659_conf_00.sdf\",\n",
    "    \"CHEMBL1346802_conf_01.sdf\",\n",
    "    \"CHEMBL340588_conf_02.sdf\",\n",
    "    \"CHEMBL3781981_conf_00.sdf\",\n",
    "    \"CHEMBL2163771_conf_00.sdf\",\n",
    "    \"CHEMBL251439_conf_02.sdf\",\n",
    "    \"CHEMBL136619_conf_00.sdf\",\n",
    "    \"CHEMBL3287835_conf_00.sdf\",\n",
    "    \"CHEMBL1342110_conf_02.sdf\",\n",
    "]\n",
    "mol_files = [os.path.join(DATA_PATH, \"test_data\", chembl_id) for chembl_id in chembl_ids]  # get some example files\n",
    "mols = [next(readfile(\"sdf\", mol_file)) for mol_file in mol_files]"
   ]
  },
  {
   "cell_type": "markdown",
   "metadata": {},
   "source": [
    "### initialize the calculator and run predictions"
   ]
  },
  {
   "cell_type": "code",
   "execution_count": 3,
   "metadata": {},
   "outputs": [
    {
     "name": "stderr",
     "output_type": "stream",
     "text": [
      "2021/06/18 10:40:23 AM | DelFTa | INFO: Now running network for model multitask_delta...\n"
     ]
    },
    {
     "ename": "AttributeError",
     "evalue": "'collections.OrderedDict' object has no attribute 'to'",
     "output_type": "error",
     "traceback": [
      "\u001b[0;31m---------------------------------------------------------------------------\u001b[0m",
      "\u001b[0;31mAttributeError\u001b[0m                            Traceback (most recent call last)",
      "\u001b[0;32m<ipython-input-3-4f0a5c6d7bd5>\u001b[0m in \u001b[0;36m<module>\u001b[0;34m\u001b[0m\n\u001b[1;32m      1\u001b[0m \u001b[0mcalc\u001b[0m \u001b[0;34m=\u001b[0m \u001b[0mDelftaCalculator\u001b[0m\u001b[0;34m(\u001b[0m\u001b[0mtasks\u001b[0m\u001b[0;34m=\u001b[0m\u001b[0;34m[\u001b[0m\u001b[0;34m\"E_form\"\u001b[0m\u001b[0;34m,\u001b[0m \u001b[0;34m\"E_homo\"\u001b[0m\u001b[0;34m,\u001b[0m \u001b[0;34m\"E_lumo\"\u001b[0m\u001b[0;34m,\u001b[0m \u001b[0;34m\"E_gap\"\u001b[0m\u001b[0;34m,\u001b[0m \u001b[0;34m\"dipole\"\u001b[0m\u001b[0;34m]\u001b[0m\u001b[0;34m,\u001b[0m \u001b[0mdelta\u001b[0m\u001b[0;34m=\u001b[0m\u001b[0;32mTrue\u001b[0m\u001b[0;34m)\u001b[0m\u001b[0;34m\u001b[0m\u001b[0;34m\u001b[0m\u001b[0m\n\u001b[0;32m----> 2\u001b[0;31m \u001b[0mpredictions_delta\u001b[0m \u001b[0;34m=\u001b[0m \u001b[0mcalc\u001b[0m\u001b[0;34m.\u001b[0m\u001b[0mpredict\u001b[0m\u001b[0;34m(\u001b[0m\u001b[0mmols\u001b[0m\u001b[0;34m)\u001b[0m\u001b[0;34m\u001b[0m\u001b[0;34m\u001b[0m\u001b[0m\n\u001b[0m",
      "\u001b[0;32m~/delfta/delfta/calculator.py\u001b[0m in \u001b[0;36mpredict\u001b[0;34m(self, mols, batch_size)\u001b[0m\n\u001b[1;32m    113\u001b[0m                 \u001b[0mn_outputs\u001b[0m\u001b[0;34m=\u001b[0m\u001b[0mmodel_param\u001b[0m\u001b[0;34m.\u001b[0m\u001b[0mn_outputs\u001b[0m\u001b[0;34m,\u001b[0m \u001b[0mglobal_prop\u001b[0m\u001b[0;34m=\u001b[0m\u001b[0mmodel_param\u001b[0m\u001b[0;34m.\u001b[0m\u001b[0mglobal_prop\u001b[0m\u001b[0;34m\u001b[0m\u001b[0;34m\u001b[0m\u001b[0m\n\u001b[1;32m    114\u001b[0m             ).eval()\n\u001b[0;32m--> 115\u001b[0;31m             \u001b[0mweights\u001b[0m \u001b[0;34m=\u001b[0m \u001b[0mget_model_weights\u001b[0m\u001b[0;34m(\u001b[0m\u001b[0mmodel_name\u001b[0m\u001b[0;34m)\u001b[0m\u001b[0;34m.\u001b[0m\u001b[0mto\u001b[0m\u001b[0;34m(\u001b[0m\u001b[0mDEVICE\u001b[0m\u001b[0;34m)\u001b[0m\u001b[0;34m\u001b[0m\u001b[0;34m\u001b[0m\u001b[0m\n\u001b[0m\u001b[1;32m    116\u001b[0m             \u001b[0mmodel\u001b[0m\u001b[0;34m.\u001b[0m\u001b[0mload_state_dict\u001b[0m\u001b[0;34m(\u001b[0m\u001b[0mweights\u001b[0m\u001b[0;34m)\u001b[0m\u001b[0;34m\u001b[0m\u001b[0;34m\u001b[0m\u001b[0m\n\u001b[1;32m    117\u001b[0m             \u001b[0my_hat\u001b[0m\u001b[0;34m,\u001b[0m \u001b[0mg_ptr\u001b[0m \u001b[0;34m=\u001b[0m \u001b[0mself\u001b[0m\u001b[0;34m.\u001b[0m\u001b[0m_get_preds\u001b[0m\u001b[0;34m(\u001b[0m\u001b[0mloader\u001b[0m\u001b[0;34m,\u001b[0m \u001b[0mmodel\u001b[0m\u001b[0;34m)\u001b[0m\u001b[0;34m\u001b[0m\u001b[0;34m\u001b[0m\u001b[0m\n",
      "\u001b[0;31mAttributeError\u001b[0m: 'collections.OrderedDict' object has no attribute 'to'"
     ]
    }
   ],
   "source": [
    "calc = DelftaCalculator(tasks=[\"E_form\", \"E_homo\", \"E_lumo\", \"E_gap\", \"dipole\"], delta=True)\n",
    "predictions_delta = calc.predict(mols)"
   ]
  },
  {
   "cell_type": "code",
   "execution_count": null,
   "metadata": {},
   "outputs": [],
   "source": []
  },
  {
   "cell_type": "code",
   "execution_count": null,
   "metadata": {},
   "outputs": [],
   "source": [
    "df = pd.DataFrame(predictions_delta)\n",
    "df.insert(0, \"structure\", chembl_ids)\n",
    "df.rename(columns={\"E_form\": \"E_form [Ha]\", \"E_homo\": \"E_homo [Ha]\", \"E_lumo\": \"E_lumo [Ha]\", \"E_gap\": \"E_gap [Ha]\", \"dipole\": \"dipole [D]\", })"
   ]
  },
  {
   "cell_type": "code",
   "execution_count": null,
   "metadata": {},
   "outputs": [],
   "source": []
  }
 ],
 "metadata": {
  "interpreter": {
   "hash": "6e3f0e0686e4e7c699d1571d1296d5e4355a8e109c70abfba87c453ed20075c6"
  },
  "kernelspec": {
   "display_name": "Python 3.7.4 64-bit ('delfta': conda)",
   "name": "python3"
  },
  "language_info": {
   "codemirror_mode": {
    "name": "ipython",
    "version": 3
   },
   "file_extension": ".py",
   "mimetype": "text/x-python",
   "name": "python",
   "nbconvert_exporter": "python",
   "pygments_lexer": "ipython3",
   "version": "3.7.4"
  },
  "orig_nbformat": 4
 },
 "nbformat": 4,
 "nbformat_minor": 2
}