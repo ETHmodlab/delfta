{
 "cells": [
  {
   "cell_type": "markdown",
   "metadata": {},
   "source": [
    "# Python package"
   ]
  },
  {
   "cell_type": "markdown",
   "metadata": {},
   "source": [
    "We start with importing a few things we'll need. All required packages are installed during the setup process. "
   ]
  },
  {
   "cell_type": "code",
   "execution_count": 1,
   "metadata": {},
   "outputs": [],
   "source": [
    "import os\n",
    "import glob\n",
    "import pandas as pd\n",
    "import matplotlib.pyplot as plt\n",
    "from matplotlib.gridspec import GridSpec\n",
    "from matplotlib.lines import Line2D\n",
    "from openbabel.pybel import readfile\n",
    "\n",
    "from delfta.calculator import DelftaCalculator\n",
    "from delfta.utils import DATA_PATH"
   ]
  },
  {
   "cell_type": "markdown",
   "metadata": {},
   "source": [
    "Next, we read a few example molecules. For more details on how to input your own molecules, see the documentation of the Pybel API [here](https://open-babel.readthedocs.io/en/latest/UseTheLibrary/Python_PybelAPI.html)."
   ]
  },
  {
   "cell_type": "code",
   "execution_count": 2,
   "metadata": {},
   "outputs": [],
   "source": [
    "mol_files = glob.glob(os.path.join(DATA_PATH, \"test_data\", \"*.sdf\"))\n",
    "mols = [next(readfile(\"sdf\", mol_file)) for mol_file in mol_files]"
   ]
  },
  {
   "cell_type": "markdown",
   "metadata": {},
   "source": [
    "We'll initialize a calculator by stating which tasks we want to perform. Options are `all` (the default), `E_form`, `E_homo`, `E_lumo`, `E_gap`, `dipole`, and `charges`. You can also choose between `delta=True` (run a GNF2-xTB calculation and predict a delta correction to obtain an approximation of the DFT-value) or `delta=False` (predict the DFT-value directly from the molecular structure)."
   ]
  },
  {
   "cell_type": "code",
   "execution_count": 3,
   "metadata": {},
   "outputs": [
    {
     "name": "stderr",
     "output_type": "stream",
     "text": [
      "2021/06/22 04:31:31 PM | DelFTa | INFO: Now running network for model multitask_delta...\n",
      "2021/06/22 04:31:37 PM | DelFTa | INFO: Now running network for model charges_delta...\n",
      "2021/06/22 04:31:42 PM | DelFTa | INFO: Now running network for model single_energy_delta...\n",
      "2021/06/22 04:31:48 PM | DelFTa | INFO: Now running xTB...\n"
     ]
    },
    {
     "ename": "ValueError",
     "evalue": "setting an array element with a sequence.",
     "output_type": "error",
     "traceback": [
      "\u001b[0;31m---------------------------------------------------------------------------\u001b[0m",
      "\u001b[0;31mTypeError\u001b[0m                                 Traceback (most recent call last)",
      "\u001b[0;31mTypeError\u001b[0m: float() argument must be a string or a number, not 'list'",
      "\nThe above exception was the direct cause of the following exception:\n",
      "\u001b[0;31mValueError\u001b[0m                                Traceback (most recent call last)",
      "\u001b[0;32m<ipython-input-3-e07007f86779>\u001b[0m in \u001b[0;36m<module>\u001b[0;34m\u001b[0m\n\u001b[1;32m      1\u001b[0m \u001b[0mcalc_delta\u001b[0m \u001b[0;34m=\u001b[0m \u001b[0mDelftaCalculator\u001b[0m\u001b[0;34m(\u001b[0m\u001b[0mtasks\u001b[0m\u001b[0;34m=\u001b[0m\u001b[0;34m[\u001b[0m\u001b[0;34m\"E_form\"\u001b[0m\u001b[0;34m,\u001b[0m \u001b[0;34m\"E_homo\"\u001b[0m\u001b[0;34m,\u001b[0m \u001b[0;34m\"E_lumo\"\u001b[0m\u001b[0;34m,\u001b[0m \u001b[0;34m\"E_gap\"\u001b[0m\u001b[0;34m,\u001b[0m \u001b[0;34m\"dipole\"\u001b[0m\u001b[0;34m,\u001b[0m \u001b[0;34m\"charges\"\u001b[0m\u001b[0;34m]\u001b[0m\u001b[0;34m,\u001b[0m \u001b[0mdelta\u001b[0m\u001b[0;34m=\u001b[0m\u001b[0;32mTrue\u001b[0m\u001b[0;34m)\u001b[0m \u001b[0;31m# Verbose passing of arguments. We could've used \"all\" as well\u001b[0m\u001b[0;34m\u001b[0m\u001b[0;34m\u001b[0m\u001b[0m\n\u001b[0;32m----> 2\u001b[0;31m \u001b[0mpredictions_delta\u001b[0m \u001b[0;34m=\u001b[0m \u001b[0mcalc_delta\u001b[0m\u001b[0;34m.\u001b[0m\u001b[0mpredict\u001b[0m\u001b[0;34m(\u001b[0m\u001b[0mmols\u001b[0m\u001b[0;34m)\u001b[0m\u001b[0;34m\u001b[0m\u001b[0;34m\u001b[0m\u001b[0m\n\u001b[0m\u001b[1;32m      3\u001b[0m \u001b[0mcalc_direct\u001b[0m \u001b[0;34m=\u001b[0m \u001b[0mDelftaCalculator\u001b[0m\u001b[0;34m(\u001b[0m\u001b[0mtasks\u001b[0m\u001b[0;34m=\u001b[0m\u001b[0;34m[\u001b[0m\u001b[0;34m\"E_form\"\u001b[0m\u001b[0;34m,\u001b[0m \u001b[0;34m\"E_homo\"\u001b[0m\u001b[0;34m,\u001b[0m \u001b[0;34m\"E_lumo\"\u001b[0m\u001b[0;34m,\u001b[0m \u001b[0;34m\"E_gap\"\u001b[0m\u001b[0;34m,\u001b[0m \u001b[0;34m\"dipole\"\u001b[0m\u001b[0;34m,\u001b[0m \u001b[0;34m\"charges\"\u001b[0m\u001b[0;34m]\u001b[0m\u001b[0;34m,\u001b[0m \u001b[0mdelta\u001b[0m\u001b[0;34m=\u001b[0m\u001b[0;32mFalse\u001b[0m\u001b[0;34m)\u001b[0m\u001b[0;34m\u001b[0m\u001b[0;34m\u001b[0m\u001b[0m\n\u001b[1;32m      4\u001b[0m \u001b[0mpredictions_direct\u001b[0m \u001b[0;34m=\u001b[0m \u001b[0mcalc_direct\u001b[0m\u001b[0;34m.\u001b[0m\u001b[0mpredict\u001b[0m\u001b[0;34m(\u001b[0m\u001b[0mmols\u001b[0m\u001b[0;34m)\u001b[0m\u001b[0;34m\u001b[0m\u001b[0;34m\u001b[0m\u001b[0m\n",
      "\u001b[0;32m~/delfta/delfta/calculator.py\u001b[0m in \u001b[0;36mpredict\u001b[0;34m(self, mols, batch_size)\u001b[0m\n\u001b[1;32m    166\u001b[0m                     ]\n\u001b[1;32m    167\u001b[0m                 preds_filtered[prop] = delta_arr + np.array(\n\u001b[0;32m--> 168\u001b[0;31m                     \u001b[0mxtb_props\u001b[0m\u001b[0;34m[\u001b[0m\u001b[0mprop\u001b[0m\u001b[0;34m]\u001b[0m\u001b[0;34m,\u001b[0m \u001b[0mdtype\u001b[0m\u001b[0;34m=\u001b[0m\u001b[0mnp\u001b[0m\u001b[0;34m.\u001b[0m\u001b[0mfloat32\u001b[0m\u001b[0;34m\u001b[0m\u001b[0;34m\u001b[0m\u001b[0m\n\u001b[0m\u001b[1;32m    169\u001b[0m                 )\n\u001b[1;32m    170\u001b[0m         \u001b[0;32mreturn\u001b[0m \u001b[0mpreds_filtered\u001b[0m\u001b[0;34m\u001b[0m\u001b[0;34m\u001b[0m\u001b[0m\n",
      "\u001b[0;31mValueError\u001b[0m: setting an array element with a sequence."
     ]
    }
   ],
   "source": [
    "calc_delta = DelftaCalculator(tasks=[\"E_form\", \"E_homo\", \"E_lumo\", \"E_gap\", \"dipole\", \"charges\"], delta=True) # Verbose passing of arguments. We could've used \"all\" as well\n",
    "predictions_delta = calc_delta.predict(mols)\n",
    "calc_direct = DelftaCalculator(tasks=[\"E_form\", \"E_homo\", \"E_lumo\", \"E_gap\", \"dipole\", \"charges\"], delta=False)\n",
    "predictions_direct = calc_direct.predict(mols)"
   ]
  },
  {
   "cell_type": "markdown",
   "metadata": {},
   "source": []
  },
  {
   "cell_type": "code",
   "execution_count": null,
   "metadata": {},
   "outputs": [],
   "source": [
    "df = pd.DataFrame(predictions_delta)\n",
    "df.insert(0, \"structure\", [os.path.basename(mol_file) for mol_file in mol_files])\n",
    "df.rename(columns={\"E_form\": \"E_form [Ha]\", \"E_homo\": \"E_homo [Ha]\", \"E_lumo\": \"E_lumo [Ha]\", \"E_gap\": \"E_gap [Ha]\", \"dipole\": \"dipole [D]\", \"charges\": \"charges [e]\"})"
   ]
  },
  {
   "cell_type": "code",
   "execution_count": null,
   "metadata": {},
   "outputs": [],
   "source": [
    "dft_keys = [\"DFT:FORMATION_ENERGY\", \"DFT:HOMO_ENERGY\", \"DFT:LUMO_ENERGY\", \"DFT:HOMO_LUMO_GAP\", \"DFT:DIPOLE\"]\n",
    "dft_values = {}\n",
    "for dft_key in dft_keys:\n",
    "    if dft_key == \"DFT:DIPOLE\": \n",
    "        dft_values[dft_key] =  [float(mol.data[dft_key].split(\"|\")[-1]) for mol in mols]\n",
    "    else:\n",
    "        dft_values[dft_key] = [float(mol.data[dft_key]) for mol in mols]\n",
    "\n"
   ]
  },
  {
   "cell_type": "code",
   "execution_count": null,
   "metadata": {},
   "outputs": [],
   "source": [
    "def make_plot(ax, dft_vals, pred_vals, label, unit, color): \n",
    "    ax.scatter(dft_vals, pred_vals, color=color, s=5)\n",
    "    ax.set_xlabel(\"DFT calculated\")\n",
    "    ax.set_ylabel(\"Predicted\")\n",
    "    min_val = [min(ax.get_ylim()[0], ax.get_xlim()[0])]\n",
    "    max_val = [max(ax.get_ylim()[1], ax.get_xlim()[1])]\n",
    "    ax.plot([min_val, max_val], [min_val, max_val], '--', color=\"black\", zorder=-1)\n",
    "    ax.set_aspect(\"equal\", \"box\")\n",
    "\n",
    "fig = plt.figure(figsize=(20, 12))\n",
    "gs = GridSpec(nrows=2, ncols=3)\n",
    "pred_keys = [\"E_form\", \"E_homo\", \"E_lumo\", \"E_gap\", \"dipole\"]\n",
    "all_dft_vals = [dft_values[dft_key] for dft_key in dft_keys]\n",
    "all_pred_vals_delta = [predictions_delta[pred_key] for pred_key in pred_keys]\n",
    "all_pred_vals_direct = [predictions_direct[pred_key] for pred_key in pred_keys]\n",
    "units = [\"Ha\", \"Ha\", \"Ha\", \"Ha\", \"D\"]\n",
    "axes = [fig.add_subplot(gs[i,j]) for i in range(2) for j in range(3)]\n",
    "for ax, dft_vals, pred_vals_delta, pred_vals_direct, label, unit in zip(axes, all_dft_vals, all_pred_vals_delta, all_pred_vals_direct, pred_keys, units): \n",
    "    make_plot(ax, dft_vals, pred_vals_delta, label, unit, \"blue\")\n",
    "    make_plot(ax, dft_vals, pred_vals_direct, label, unit, \"orange\")\n",
    "    ax.title.set_text(f\"{label} / {unit}\")\n",
    "    ax.title.set_fontsize(16)\n",
    "\n",
    "handles = [Line2D([0], [0], marker='o', color=\"white\", markerfacecolor=\"blue\"), Line2D([0], [0], marker='o', color=\"white\", markerfacecolor=\"orange\")]\n",
    "fig.legend(handles, [\"delta\", \"direct\"], fontsize=16, loc=\"lower center\", ncol=2)"
   ]
  },
  {
   "cell_type": "code",
   "execution_count": null,
   "metadata": {},
   "outputs": [],
   "source": [
    "df"
   ]
  },
  {
   "cell_type": "code",
   "execution_count": null,
   "metadata": {},
   "outputs": [],
   "source": []
  }
 ],
 "metadata": {
  "interpreter": {
   "hash": "6e3f0e0686e4e7c699d1571d1296d5e4355a8e109c70abfba87c453ed20075c6"
  },
  "kernelspec": {
   "display_name": "Python 3.7.4 64-bit ('delfta': conda)",
   "name": "python3"
  },
  "language_info": {
   "name": "python",
   "version": ""
  },
  "orig_nbformat": 4
 },
 "nbformat": 4,
 "nbformat_minor": 2
}