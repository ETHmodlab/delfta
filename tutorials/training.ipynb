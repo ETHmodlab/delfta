{
 "cells": [
  {
   "cell_type": "markdown",
   "source": [
    "# Example training script"
   ],
   "metadata": {}
  },
  {
   "cell_type": "markdown",
   "source": [
    "This tutorial shows a brief example of how the networks were trained. The specific example below is for $\\Delta$-learning of formation energy in a single-task setting. We'll start with the imports:"
   ],
   "metadata": {}
  },
  {
   "cell_type": "code",
   "execution_count": 1,
   "source": [
    "import os\n",
    "import h5py\n",
    "import networkx as nx\n",
    "import numpy as np\n",
    "import torch\n",
    "import torch.nn as nn\n",
    "import torch.nn.functional as F\n",
    "from delfta.net import EGNN\n",
    "from delfta.net_utils import MODEL_HPARAMS\n",
    "from delfta.utils import DATA_PATH, ROOT_PATH\n",
    "from torch_geometric.data import Data, DataLoader, Dataset\n",
    "from torch_geometric.utils import add_self_loops\n",
    "from torch_geometric.utils.undirected import to_undirected\n",
    "from tqdm import tqdm"
   ],
   "outputs": [],
   "metadata": {}
  },
  {
   "cell_type": "markdown",
   "source": [
    "Next, we'll download the training data if that hasn't happened yet (not done by default during the setup of `delfta`, since the original training files aren't needed to run the trained models). This can take a bit of time..."
   ],
   "metadata": {}
  },
  {
   "cell_type": "code",
   "execution_count": 2,
   "source": [
    "if not os.path.exists(os.path.join(DATA_PATH, \"qmugs\", \"qmugs_conf00.h5\")): \n",
    "    os.makedirs(os.path.join(DATA_PATH), exist_ok=True)\n",
    "    from delfta.download import DATASET_REMOTE, download\n",
    "    import tarfile \n",
    "    \n",
    "    download(DATASET_REMOTE, os.path.join(DATA_PATH, \"qmugs.tar.gz\"))\n",
    "    with tarfile.open(os.path.join(DATA_PATH, \"qmugs.tar.gz\")) as handle:\n",
    "        handle.extractall(DATA_PATH)"
   ],
   "outputs": [
    {
     "output_type": "stream",
     "name": "stderr",
     "text": [
      "qmugs.tar.gz: 100%|██████████| 4.06G/4.06G [01:00<00:00, 82.0MiB/s]"
     ]
    }
   ],
   "metadata": {}
  },
  {
   "cell_type": "markdown",
   "source": [
    "We'll define a new dataset class which is similar to the one in `delfta.net_utils`, but it doesn't load all the molecules in memory - which is better for training with a large number of molecules."
   ],
   "metadata": {}
  },
  {
   "cell_type": "code",
   "execution_count": 3,
   "source": [
    "class DatasetSingletaskh5(Dataset):\n",
    "    def __init__(\n",
    "        self, txtfile, prop,\n",
    "    ):\n",
    "\n",
    "        # read txt\n",
    "        with open(txtfile, \"r\") as f:\n",
    "            chembls = [elem.rstrip(\"\\n\") for elem in f.readlines()]\n",
    "\n",
    "        # create dict on the fly: idx -> chembl\n",
    "        nums = list(range(0, len(chembls)))\n",
    "        self.idx2chembl = {}\n",
    "        for x in range(len(chembls)):\n",
    "            dict = {nums[x]: chembls[x]}\n",
    "            self.idx2chembl.update(dict)\n",
    "\n",
    "        # read h5\n",
    "        self.h5f0 = h5py.File(os.path.join(DATA_PATH, \"qmugs\", \"qmugs_conf00.h5\"), \"r\")\n",
    "        self.h5f1 = h5py.File(os.path.join(DATA_PATH, \"qmugs\", \"qmugs_conf01.h5\"), \"r\")\n",
    "        self.h5f2 = h5py.File(os.path.join(DATA_PATH, \"qmugs\", \"qmugs_conf02.h5\"), \"r\")\n",
    "\n",
    "        # define property of interest\n",
    "        self.prop = prop\n",
    "\n",
    "    def __getitem__(self, idx):\n",
    "\n",
    "        chembl_id = self.idx2chembl[idx]\n",
    "\n",
    "        #### nodes coordinates and target\n",
    "        if \"conf_00\" in chembl_id:\n",
    "            atomids = torch.LongTensor(self.h5f0[str(chembl_id)][\"atomids\"])\n",
    "            coords = torch.FloatTensor(self.h5f0[str(chembl_id)][\"coords\"])\n",
    "            target = torch.FloatTensor(self.h5f0[str(chembl_id)][self.prop])\n",
    "        elif \"conf_01\" in chembl_id:\n",
    "            atomids = torch.LongTensor(self.h5f1[str(chembl_id)][\"atomids\"])\n",
    "            coords = torch.FloatTensor(self.h5f1[str(chembl_id)][\"coords\"])\n",
    "            target = torch.FloatTensor(self.h5f1[str(chembl_id)][self.prop])\n",
    "        elif \"conf_02\" in chembl_id:\n",
    "            atomids = torch.LongTensor(self.h5f2[str(chembl_id)][\"atomids\"])\n",
    "            coords = torch.FloatTensor(self.h5f2[str(chembl_id)][\"coords\"])\n",
    "            target = torch.FloatTensor(self.h5f2[str(chembl_id)][self.prop])\n",
    "\n",
    "        #### edges\n",
    "        edge_index = np.array(nx.complete_graph(atomids.size(0)).edges())\n",
    "        edge_index = to_undirected(torch.from_numpy(edge_index).t().contiguous())\n",
    "        edge_index, _ = add_self_loops(edge_index, num_nodes=coords.shape[0])\n",
    "\n",
    "        #### graph object\n",
    "        graph_data = Data(\n",
    "            atomids=atomids,\n",
    "            coords=coords,\n",
    "            edge_index=edge_index,\n",
    "            target=target,\n",
    "            num_nodes=atomids.size(0),\n",
    "        )\n",
    "\n",
    "        return graph_data\n",
    "\n",
    "    def __len__(self):\n",
    "        return len(self.idx2chembl)\n",
    "\n"
   ],
   "outputs": [
    {
     "output_type": "stream",
     "name": "stderr",
     "text": []
    }
   ],
   "metadata": {}
  },
  {
   "cell_type": "markdown",
   "source": [
    "Now we'll define the training and evaluation loops:"
   ],
   "metadata": {}
  },
  {
   "cell_type": "code",
   "execution_count": 4,
   "source": [
    "DEVICE = torch.device(\"cuda\" if torch.cuda.is_available() else \"cpu\")\n",
    "mae_loss = lambda x, y: F.l1_loss(x, y).item()\n",
    "\n",
    "\n",
    "def train_loop(model, loader, optimizer, criterion):\n",
    "    model.train()\n",
    "    training_loss = []\n",
    "\n",
    "    for g_batch in tqdm(loader, total=len(loader)):\n",
    "\n",
    "        optimizer.zero_grad()\n",
    "        g_batch = g_batch.to(DEVICE)\n",
    "        target = g_batch.target\n",
    "\n",
    "        prediction = model(g_batch).squeeze(1)\n",
    "\n",
    "        loss = criterion(prediction, target)\n",
    "        loss.backward()\n",
    "        optimizer.step()\n",
    "\n",
    "        with torch.no_grad():\n",
    "            mae = mae_loss(prediction, target)\n",
    "            training_loss.append(mae)\n",
    "\n",
    "    return np.mean(training_loss), np.std(training_loss)\n",
    "\n",
    "\n",
    "def eval_loop(model, loader):\n",
    "    model.eval()\n",
    "\n",
    "    maes = []\n",
    "\n",
    "    with torch.no_grad():\n",
    "        for g_batch in tqdm(loader, total=len(loader)):\n",
    "            g_batch = g_batch.to(DEVICE)\n",
    "            prediction = model(g_batch).squeeze(1)\n",
    "            maes.append(mae_loss(prediction, g_batch.target))\n",
    "\n",
    "    eval_mae = sum(maes) / len(maes)\n",
    "    return eval_mae"
   ],
   "outputs": [],
   "metadata": {}
  },
  {
   "cell_type": "markdown",
   "source": [
    "And finally we can start training the model:  "
   ],
   "metadata": {}
  },
  {
   "cell_type": "code",
   "execution_count": 5,
   "source": [
    "save_path = os.path.join(ROOT_PATH, \"tutorials\", \"training_evaluation\")\n",
    "os.makedirs(save_path, exist_ok=True)\n",
    "train_path = os.path.join(DATA_PATH, \"qmugs\", \"train_example.txt\") # this includes only 50 molecules so that in this tutorial, we quickly see results\n",
    "eval_path = os.path.join(DATA_PATH, \"qmugs\", \"eval_example.txt\")  \n",
    "prop = \"DELTA_ENERGY\"\n",
    "model_param = MODEL_HPARAMS[\"single_energy_delta\"]\n",
    "\n",
    "train_data = DatasetSingletaskh5(txtfile=train_path, prop=prop)\n",
    "train_loader = DataLoader(train_data, batch_size=2, shuffle=True, num_workers=0)\n",
    "\n",
    "validation_data = DatasetSingletaskh5(txtfile=eval_path, prop=prop)\n",
    "validation_loader = DataLoader(\n",
    "    validation_data, batch_size=2, shuffle=False, num_workers=0\n",
    ")\n",
    "\n",
    "# Load model\n",
    "model = EGNN(\n",
    "    n_outputs=model_param.n_outputs,\n",
    "    global_prop=model_param.global_prop,\n",
    "    n_kernels=model_param.n_kernels,\n",
    "    mlp_dim=model_param.mlp_dim,\n",
    ")\n",
    "model = model.to(DEVICE)\n",
    "\n",
    "optimizer = torch.optim.Adam(model.parameters(), lr=1e-4, weight_decay=1e-10)\n",
    "scheduler = torch.optim.lr_scheduler.ReduceLROnPlateau(\n",
    "    optimizer, mode=\"min\", factor=0.7, patience=20, verbose=True\n",
    ")\n",
    "\n",
    "train_m_losses, train_std_losses = [], []\n",
    "val_losses = []\n",
    "val_maes = []\n",
    "epoch_maes = []\n",
    "min_mae = 1e10\n",
    "EPOCHS = 100\n",
    "\n",
    "for epoch in range(EPOCHS):\n",
    "    print(f\"Epoch {epoch + 1}/{EPOCHS}...\", flush=True)\n",
    "\n",
    "    m_loss, std_loss = train_loop(model, train_loader, optimizer, nn.MSELoss())\n",
    "    train_m_losses.append(m_loss)\n",
    "    train_std_losses.append(std_loss)\n",
    "\n",
    "    eval_mae = eval_loop(model, validation_loader)\n",
    "    val_losses.append(eval_mae)\n",
    "    scheduler.step(eval_mae)\n",
    "\n",
    "    if eval_mae < min_mae:\n",
    "\n",
    "        min_mae = eval_mae\n",
    "        val_maes.append(eval_mae)\n",
    "        epoch_maes.append(epoch)\n",
    "        print(f\"New min eval_mae in epoch {epoch}: {eval_mae:.6f}\", flush=True)\n",
    "        torch.save(\n",
    "            model.state_dict(), os.path.join(save_path, \"model.pt\"),\n",
    "        )\n",
    "        torch.save(\n",
    "            [train_m_losses, train_std_losses, val_losses],\n",
    "            os.path.join(save_path, \"loss_train_eval.pt\"),\n",
    "        )\n"
   ],
   "outputs": [
    {
     "output_type": "stream",
     "name": "stdout",
     "text": [
      "Epoch 1/100...\n"
     ]
    },
    {
     "output_type": "stream",
     "name": "stderr",
     "text": [
      "100%|██████████| 50/50 [00:03<00:00, 13.88it/s]\n",
      "100%|██████████| 50/50 [00:01<00:00, 29.19it/s]"
     ]
    },
    {
     "output_type": "stream",
     "name": "stdout",
     "text": [
      "New min eval_mae in epoch 0: 0.678046\n",
      "Epoch 2/100...\n"
     ]
    },
    {
     "output_type": "stream",
     "name": "stderr",
     "text": [
      "\n",
      "100%|██████████| 50/50 [00:03<00:00, 15.88it/s]\n",
      "100%|██████████| 50/50 [00:01<00:00, 28.87it/s]"
     ]
    },
    {
     "output_type": "stream",
     "name": "stdout",
     "text": [
      "New min eval_mae in epoch 1: 0.587316\n",
      "Epoch 3/100...\n"
     ]
    },
    {
     "output_type": "stream",
     "name": "stderr",
     "text": [
      "\n",
      "100%|██████████| 50/50 [00:03<00:00, 15.87it/s]\n",
      "100%|██████████| 50/50 [00:01<00:00, 28.42it/s]"
     ]
    },
    {
     "output_type": "stream",
     "name": "stdout",
     "text": [
      "Epoch 4/100...\n"
     ]
    },
    {
     "output_type": "stream",
     "name": "stderr",
     "text": [
      "\n",
      "100%|██████████| 50/50 [00:03<00:00, 15.98it/s]\n",
      "100%|██████████| 50/50 [00:01<00:00, 28.81it/s]"
     ]
    },
    {
     "output_type": "stream",
     "name": "stdout",
     "text": [
      "New min eval_mae in epoch 3: 0.469084\n",
      "Epoch 5/100...\n"
     ]
    },
    {
     "output_type": "stream",
     "name": "stderr",
     "text": [
      "\n",
      "100%|██████████| 50/50 [00:03<00:00, 15.87it/s]\n",
      "100%|██████████| 50/50 [00:01<00:00, 28.80it/s]"
     ]
    },
    {
     "output_type": "stream",
     "name": "stdout",
     "text": [
      "New min eval_mae in epoch 4: 0.435168\n",
      "Epoch 6/100...\n"
     ]
    },
    {
     "output_type": "stream",
     "name": "stderr",
     "text": [
      "\n",
      "100%|██████████| 50/50 [00:03<00:00, 15.82it/s]\n",
      "100%|██████████| 50/50 [00:01<00:00, 28.63it/s]"
     ]
    },
    {
     "output_type": "stream",
     "name": "stdout",
     "text": [
      "New min eval_mae in epoch 5: 0.338391\n",
      "Epoch 7/100...\n"
     ]
    },
    {
     "output_type": "stream",
     "name": "stderr",
     "text": [
      "\n",
      "100%|██████████| 50/50 [00:03<00:00, 15.56it/s]\n",
      "100%|██████████| 50/50 [00:01<00:00, 29.11it/s]"
     ]
    },
    {
     "output_type": "stream",
     "name": "stdout",
     "text": [
      "Epoch 8/100...\n"
     ]
    },
    {
     "output_type": "stream",
     "name": "stderr",
     "text": [
      "\n",
      "100%|██████████| 50/50 [00:03<00:00, 15.81it/s]\n",
      "100%|██████████| 50/50 [00:01<00:00, 29.26it/s]"
     ]
    },
    {
     "output_type": "stream",
     "name": "stdout",
     "text": [
      "Epoch 9/100...\n"
     ]
    },
    {
     "output_type": "stream",
     "name": "stderr",
     "text": [
      "\n",
      "100%|██████████| 50/50 [00:03<00:00, 16.02it/s]\n",
      "100%|██████████| 50/50 [00:01<00:00, 29.04it/s]"
     ]
    },
    {
     "output_type": "stream",
     "name": "stdout",
     "text": [
      "Epoch 10/100...\n"
     ]
    },
    {
     "output_type": "stream",
     "name": "stderr",
     "text": [
      "\n",
      "100%|██████████| 50/50 [00:03<00:00, 15.63it/s]\n",
      "100%|██████████| 50/50 [00:01<00:00, 29.10it/s]"
     ]
    },
    {
     "output_type": "stream",
     "name": "stdout",
     "text": [
      "Epoch 11/100...\n"
     ]
    },
    {
     "output_type": "stream",
     "name": "stderr",
     "text": [
      "\n",
      "100%|██████████| 50/50 [00:03<00:00, 15.96it/s]\n",
      "100%|██████████| 50/50 [00:01<00:00, 29.01it/s]"
     ]
    },
    {
     "output_type": "stream",
     "name": "stdout",
     "text": [
      "Epoch 12/100...\n"
     ]
    },
    {
     "output_type": "stream",
     "name": "stderr",
     "text": [
      "\n",
      "100%|██████████| 50/50 [00:03<00:00, 16.01it/s]\n",
      "100%|██████████| 50/50 [00:01<00:00, 28.54it/s]"
     ]
    },
    {
     "output_type": "stream",
     "name": "stdout",
     "text": [
      "Epoch 13/100...\n"
     ]
    },
    {
     "output_type": "stream",
     "name": "stderr",
     "text": [
      "\n",
      "100%|██████████| 50/50 [00:03<00:00, 15.87it/s]\n",
      "100%|██████████| 50/50 [00:01<00:00, 29.00it/s]"
     ]
    },
    {
     "output_type": "stream",
     "name": "stdout",
     "text": [
      "Epoch 14/100...\n"
     ]
    },
    {
     "output_type": "stream",
     "name": "stderr",
     "text": [
      "\n",
      "100%|██████████| 50/50 [00:03<00:00, 15.90it/s]\n",
      "100%|██████████| 50/50 [00:01<00:00, 29.52it/s]"
     ]
    },
    {
     "output_type": "stream",
     "name": "stdout",
     "text": [
      "Epoch 15/100...\n"
     ]
    },
    {
     "output_type": "stream",
     "name": "stderr",
     "text": [
      "\n",
      "100%|██████████| 50/50 [00:03<00:00, 15.67it/s]\n",
      "100%|██████████| 50/50 [00:01<00:00, 28.90it/s]"
     ]
    },
    {
     "output_type": "stream",
     "name": "stdout",
     "text": [
      "Epoch 16/100...\n"
     ]
    },
    {
     "output_type": "stream",
     "name": "stderr",
     "text": [
      "\n",
      "100%|██████████| 50/50 [00:03<00:00, 15.73it/s]\n",
      "100%|██████████| 50/50 [00:01<00:00, 28.79it/s]"
     ]
    },
    {
     "output_type": "stream",
     "name": "stdout",
     "text": [
      "Epoch 17/100...\n"
     ]
    },
    {
     "output_type": "stream",
     "name": "stderr",
     "text": [
      "\n",
      "100%|██████████| 50/50 [00:03<00:00, 16.07it/s]\n",
      "100%|██████████| 50/50 [00:01<00:00, 28.15it/s]"
     ]
    },
    {
     "output_type": "stream",
     "name": "stdout",
     "text": [
      "Epoch 18/100...\n"
     ]
    },
    {
     "output_type": "stream",
     "name": "stderr",
     "text": [
      "\n",
      "100%|██████████| 50/50 [00:03<00:00, 15.77it/s]\n",
      "100%|██████████| 50/50 [00:01<00:00, 28.15it/s]"
     ]
    },
    {
     "output_type": "stream",
     "name": "stdout",
     "text": [
      "Epoch 19/100...\n"
     ]
    },
    {
     "output_type": "stream",
     "name": "stderr",
     "text": [
      "\n",
      "100%|██████████| 50/50 [00:03<00:00, 15.86it/s]\n",
      "100%|██████████| 50/50 [00:01<00:00, 29.28it/s]"
     ]
    },
    {
     "output_type": "stream",
     "name": "stdout",
     "text": [
      "New min eval_mae in epoch 18: 0.312960\n",
      "Epoch 20/100...\n"
     ]
    },
    {
     "output_type": "stream",
     "name": "stderr",
     "text": [
      "\n",
      "100%|██████████| 50/50 [00:03<00:00, 15.88it/s]\n",
      "100%|██████████| 50/50 [00:01<00:00, 28.41it/s]"
     ]
    },
    {
     "output_type": "stream",
     "name": "stdout",
     "text": [
      "Epoch 21/100...\n"
     ]
    },
    {
     "output_type": "stream",
     "name": "stderr",
     "text": [
      "\n",
      "100%|██████████| 50/50 [00:03<00:00, 15.94it/s]\n",
      "100%|██████████| 50/50 [00:01<00:00, 28.90it/s]"
     ]
    },
    {
     "output_type": "stream",
     "name": "stdout",
     "text": [
      "Epoch 22/100...\n"
     ]
    },
    {
     "output_type": "stream",
     "name": "stderr",
     "text": [
      "\n",
      "100%|██████████| 50/50 [00:03<00:00, 15.52it/s]\n",
      "100%|██████████| 50/50 [00:01<00:00, 28.86it/s]"
     ]
    },
    {
     "output_type": "stream",
     "name": "stdout",
     "text": [
      "Epoch 23/100...\n"
     ]
    },
    {
     "output_type": "stream",
     "name": "stderr",
     "text": [
      "\n",
      "100%|██████████| 50/50 [00:03<00:00, 15.69it/s]\n",
      "100%|██████████| 50/50 [00:01<00:00, 28.86it/s]"
     ]
    },
    {
     "output_type": "stream",
     "name": "stdout",
     "text": [
      "Epoch 24/100...\n"
     ]
    },
    {
     "output_type": "stream",
     "name": "stderr",
     "text": [
      "\n",
      "100%|██████████| 50/50 [00:03<00:00, 15.87it/s]\n",
      "100%|██████████| 50/50 [00:01<00:00, 28.96it/s]"
     ]
    },
    {
     "output_type": "stream",
     "name": "stdout",
     "text": [
      "Epoch 25/100...\n"
     ]
    },
    {
     "output_type": "stream",
     "name": "stderr",
     "text": [
      "\n",
      "100%|██████████| 50/50 [00:03<00:00, 15.48it/s]\n",
      "100%|██████████| 50/50 [00:01<00:00, 28.31it/s]"
     ]
    },
    {
     "output_type": "stream",
     "name": "stdout",
     "text": [
      "Epoch 26/100...\n"
     ]
    },
    {
     "output_type": "stream",
     "name": "stderr",
     "text": [
      "\n",
      "100%|██████████| 50/50 [00:03<00:00, 16.11it/s]\n",
      "100%|██████████| 50/50 [00:01<00:00, 28.83it/s]"
     ]
    },
    {
     "output_type": "stream",
     "name": "stdout",
     "text": [
      "Epoch 27/100...\n"
     ]
    },
    {
     "output_type": "stream",
     "name": "stderr",
     "text": [
      "\n",
      "100%|██████████| 50/50 [00:03<00:00, 15.65it/s]\n",
      "100%|██████████| 50/50 [00:01<00:00, 28.97it/s]"
     ]
    },
    {
     "output_type": "stream",
     "name": "stdout",
     "text": [
      "New min eval_mae in epoch 26: 0.267069\n",
      "Epoch 28/100...\n"
     ]
    },
    {
     "output_type": "stream",
     "name": "stderr",
     "text": [
      "\n",
      "100%|██████████| 50/50 [00:03<00:00, 15.85it/s]\n",
      "100%|██████████| 50/50 [00:01<00:00, 28.99it/s]"
     ]
    },
    {
     "output_type": "stream",
     "name": "stdout",
     "text": [
      "Epoch 29/100...\n"
     ]
    },
    {
     "output_type": "stream",
     "name": "stderr",
     "text": [
      "\n",
      "100%|██████████| 50/50 [00:03<00:00, 15.95it/s]\n",
      "100%|██████████| 50/50 [00:01<00:00, 29.23it/s]"
     ]
    },
    {
     "output_type": "stream",
     "name": "stdout",
     "text": [
      "Epoch 30/100...\n"
     ]
    },
    {
     "output_type": "stream",
     "name": "stderr",
     "text": [
      "\n",
      "100%|██████████| 50/50 [00:03<00:00, 15.73it/s]\n",
      "100%|██████████| 50/50 [00:01<00:00, 29.20it/s]"
     ]
    },
    {
     "output_type": "stream",
     "name": "stdout",
     "text": [
      "New min eval_mae in epoch 29: 0.224661\n",
      "Epoch 31/100...\n"
     ]
    },
    {
     "output_type": "stream",
     "name": "stderr",
     "text": [
      "\n",
      "100%|██████████| 50/50 [00:03<00:00, 15.74it/s]\n",
      "100%|██████████| 50/50 [00:01<00:00, 29.37it/s]"
     ]
    },
    {
     "output_type": "stream",
     "name": "stdout",
     "text": [
      "Epoch 32/100...\n"
     ]
    },
    {
     "output_type": "stream",
     "name": "stderr",
     "text": [
      "\n",
      "100%|██████████| 50/50 [00:03<00:00, 15.80it/s]\n",
      "100%|██████████| 50/50 [00:01<00:00, 29.23it/s]"
     ]
    },
    {
     "output_type": "stream",
     "name": "stdout",
     "text": [
      "Epoch 33/100...\n"
     ]
    },
    {
     "output_type": "stream",
     "name": "stderr",
     "text": [
      "\n",
      "100%|██████████| 50/50 [00:03<00:00, 15.70it/s]\n",
      "100%|██████████| 50/50 [00:01<00:00, 28.95it/s]"
     ]
    },
    {
     "output_type": "stream",
     "name": "stdout",
     "text": [
      "Epoch 34/100...\n"
     ]
    },
    {
     "output_type": "stream",
     "name": "stderr",
     "text": [
      "\n",
      "100%|██████████| 50/50 [00:03<00:00, 15.82it/s]\n",
      "100%|██████████| 50/50 [00:01<00:00, 29.17it/s]"
     ]
    },
    {
     "output_type": "stream",
     "name": "stdout",
     "text": [
      "Epoch 35/100...\n"
     ]
    },
    {
     "output_type": "stream",
     "name": "stderr",
     "text": [
      "\n",
      "100%|██████████| 50/50 [00:03<00:00, 15.75it/s]\n",
      "100%|██████████| 50/50 [00:01<00:00, 28.88it/s]"
     ]
    },
    {
     "output_type": "stream",
     "name": "stdout",
     "text": [
      "Epoch 36/100...\n"
     ]
    },
    {
     "output_type": "stream",
     "name": "stderr",
     "text": [
      "\n",
      "100%|██████████| 50/50 [00:03<00:00, 15.98it/s]\n",
      "100%|██████████| 50/50 [00:01<00:00, 28.62it/s]"
     ]
    },
    {
     "output_type": "stream",
     "name": "stdout",
     "text": [
      "Epoch 37/100...\n"
     ]
    },
    {
     "output_type": "stream",
     "name": "stderr",
     "text": [
      "\n",
      "100%|██████████| 50/50 [00:03<00:00, 15.73it/s]\n",
      "100%|██████████| 50/50 [00:01<00:00, 29.13it/s]"
     ]
    },
    {
     "output_type": "stream",
     "name": "stdout",
     "text": [
      "Epoch 38/100...\n"
     ]
    },
    {
     "output_type": "stream",
     "name": "stderr",
     "text": [
      "\n",
      "100%|██████████| 50/50 [00:03<00:00, 15.62it/s]\n",
      "100%|██████████| 50/50 [00:01<00:00, 27.89it/s]"
     ]
    },
    {
     "output_type": "stream",
     "name": "stdout",
     "text": [
      "Epoch 39/100...\n"
     ]
    },
    {
     "output_type": "stream",
     "name": "stderr",
     "text": [
      "\n",
      "100%|██████████| 50/50 [00:03<00:00, 15.73it/s]\n",
      "100%|██████████| 50/50 [00:01<00:00, 28.69it/s]"
     ]
    },
    {
     "output_type": "stream",
     "name": "stdout",
     "text": [
      "Epoch 40/100...\n"
     ]
    },
    {
     "output_type": "stream",
     "name": "stderr",
     "text": [
      "\n",
      "100%|██████████| 50/50 [00:03<00:00, 15.62it/s]\n",
      "100%|██████████| 50/50 [00:01<00:00, 28.03it/s]"
     ]
    },
    {
     "output_type": "stream",
     "name": "stdout",
     "text": [
      "Epoch 41/100...\n"
     ]
    },
    {
     "output_type": "stream",
     "name": "stderr",
     "text": [
      "\n",
      "100%|██████████| 50/50 [00:03<00:00, 15.78it/s]\n",
      "100%|██████████| 50/50 [00:01<00:00, 28.65it/s]"
     ]
    },
    {
     "output_type": "stream",
     "name": "stdout",
     "text": [
      "Epoch 42/100...\n"
     ]
    },
    {
     "output_type": "stream",
     "name": "stderr",
     "text": [
      "\n",
      "100%|██████████| 50/50 [00:03<00:00, 16.06it/s]\n",
      "100%|██████████| 50/50 [00:01<00:00, 28.40it/s]"
     ]
    },
    {
     "output_type": "stream",
     "name": "stdout",
     "text": [
      "Epoch 43/100...\n"
     ]
    },
    {
     "output_type": "stream",
     "name": "stderr",
     "text": [
      "\n",
      "100%|██████████| 50/50 [00:03<00:00, 15.97it/s]\n",
      "100%|██████████| 50/50 [00:01<00:00, 28.10it/s]"
     ]
    },
    {
     "output_type": "stream",
     "name": "stdout",
     "text": [
      "Epoch 44/100...\n"
     ]
    },
    {
     "output_type": "stream",
     "name": "stderr",
     "text": [
      "\n",
      "100%|██████████| 50/50 [00:03<00:00, 15.88it/s]\n",
      "100%|██████████| 50/50 [00:01<00:00, 28.97it/s]"
     ]
    },
    {
     "output_type": "stream",
     "name": "stdout",
     "text": [
      "Epoch 45/100...\n"
     ]
    },
    {
     "output_type": "stream",
     "name": "stderr",
     "text": [
      "\n",
      "100%|██████████| 50/50 [00:03<00:00, 15.98it/s]\n",
      "100%|██████████| 50/50 [00:01<00:00, 28.71it/s]"
     ]
    },
    {
     "output_type": "stream",
     "name": "stdout",
     "text": [
      "Epoch 46/100...\n"
     ]
    },
    {
     "output_type": "stream",
     "name": "stderr",
     "text": [
      "\n",
      "100%|██████████| 50/50 [00:03<00:00, 15.89it/s]\n",
      "100%|██████████| 50/50 [00:01<00:00, 28.72it/s]"
     ]
    },
    {
     "output_type": "stream",
     "name": "stdout",
     "text": [
      "Epoch 47/100...\n"
     ]
    },
    {
     "output_type": "stream",
     "name": "stderr",
     "text": [
      "\n",
      "100%|██████████| 50/50 [00:03<00:00, 15.83it/s]\n",
      "100%|██████████| 50/50 [00:01<00:00, 29.19it/s]"
     ]
    },
    {
     "output_type": "stream",
     "name": "stdout",
     "text": [
      "Epoch 48/100...\n"
     ]
    },
    {
     "output_type": "stream",
     "name": "stderr",
     "text": [
      "\n",
      "100%|██████████| 50/50 [00:03<00:00, 15.92it/s]\n",
      "100%|██████████| 50/50 [00:01<00:00, 29.10it/s]"
     ]
    },
    {
     "output_type": "stream",
     "name": "stdout",
     "text": [
      "Epoch 49/100...\n"
     ]
    },
    {
     "output_type": "stream",
     "name": "stderr",
     "text": [
      "\n",
      "100%|██████████| 50/50 [00:03<00:00, 15.71it/s]\n",
      "100%|██████████| 50/50 [00:01<00:00, 28.34it/s]"
     ]
    },
    {
     "output_type": "stream",
     "name": "stdout",
     "text": [
      "Epoch 50/100...\n"
     ]
    },
    {
     "output_type": "stream",
     "name": "stderr",
     "text": [
      "\n",
      "100%|██████████| 50/50 [00:03<00:00, 15.69it/s]\n",
      "100%|██████████| 50/50 [00:01<00:00, 29.06it/s]"
     ]
    },
    {
     "output_type": "stream",
     "name": "stdout",
     "text": [
      "Epoch 51/100...\n"
     ]
    },
    {
     "output_type": "stream",
     "name": "stderr",
     "text": [
      "\n",
      "100%|██████████| 50/50 [00:03<00:00, 16.01it/s]\n",
      "100%|██████████| 50/50 [00:01<00:00, 28.86it/s]"
     ]
    },
    {
     "output_type": "stream",
     "name": "stdout",
     "text": [
      "Epoch    51: reducing learning rate of group 0 to 7.0000e-05.\n",
      "Epoch 52/100...\n"
     ]
    },
    {
     "output_type": "stream",
     "name": "stderr",
     "text": [
      "\n",
      "100%|██████████| 50/50 [00:03<00:00, 15.81it/s]\n",
      "100%|██████████| 50/50 [00:01<00:00, 28.64it/s]"
     ]
    },
    {
     "output_type": "stream",
     "name": "stdout",
     "text": [
      "Epoch 53/100...\n"
     ]
    },
    {
     "output_type": "stream",
     "name": "stderr",
     "text": [
      "\n",
      "100%|██████████| 50/50 [00:03<00:00, 15.73it/s]\n",
      "100%|██████████| 50/50 [00:01<00:00, 29.08it/s]"
     ]
    },
    {
     "output_type": "stream",
     "name": "stdout",
     "text": [
      "Epoch 54/100...\n"
     ]
    },
    {
     "output_type": "stream",
     "name": "stderr",
     "text": [
      "\n",
      "100%|██████████| 50/50 [00:03<00:00, 15.88it/s]\n",
      "100%|██████████| 50/50 [00:01<00:00, 29.15it/s]"
     ]
    },
    {
     "output_type": "stream",
     "name": "stdout",
     "text": [
      "Epoch 55/100...\n"
     ]
    },
    {
     "output_type": "stream",
     "name": "stderr",
     "text": [
      "\n",
      "100%|██████████| 50/50 [00:03<00:00, 15.84it/s]\n",
      "100%|██████████| 50/50 [00:01<00:00, 28.86it/s]"
     ]
    },
    {
     "output_type": "stream",
     "name": "stdout",
     "text": [
      "Epoch 56/100...\n"
     ]
    },
    {
     "output_type": "stream",
     "name": "stderr",
     "text": [
      "\n",
      "100%|██████████| 50/50 [00:03<00:00, 15.70it/s]\n",
      "100%|██████████| 50/50 [00:01<00:00, 28.79it/s]"
     ]
    },
    {
     "output_type": "stream",
     "name": "stdout",
     "text": [
      "Epoch 57/100...\n"
     ]
    },
    {
     "output_type": "stream",
     "name": "stderr",
     "text": [
      "\n",
      "100%|██████████| 50/50 [00:03<00:00, 15.46it/s]\n",
      "100%|██████████| 50/50 [00:01<00:00, 28.61it/s]"
     ]
    },
    {
     "output_type": "stream",
     "name": "stdout",
     "text": [
      "Epoch 58/100...\n"
     ]
    },
    {
     "output_type": "stream",
     "name": "stderr",
     "text": [
      "\n",
      "100%|██████████| 50/50 [00:03<00:00, 15.70it/s]\n",
      "100%|██████████| 50/50 [00:01<00:00, 29.52it/s]"
     ]
    },
    {
     "output_type": "stream",
     "name": "stdout",
     "text": [
      "Epoch 59/100...\n"
     ]
    },
    {
     "output_type": "stream",
     "name": "stderr",
     "text": [
      "\n",
      "100%|██████████| 50/50 [00:03<00:00, 15.86it/s]\n",
      "100%|██████████| 50/50 [00:01<00:00, 28.97it/s]"
     ]
    },
    {
     "output_type": "stream",
     "name": "stdout",
     "text": [
      "Epoch 60/100...\n"
     ]
    },
    {
     "output_type": "stream",
     "name": "stderr",
     "text": [
      "\n",
      "100%|██████████| 50/50 [00:03<00:00, 15.68it/s]\n",
      "100%|██████████| 50/50 [00:01<00:00, 28.54it/s]"
     ]
    },
    {
     "output_type": "stream",
     "name": "stdout",
     "text": [
      "Epoch 61/100...\n"
     ]
    },
    {
     "output_type": "stream",
     "name": "stderr",
     "text": [
      "\n",
      "100%|██████████| 50/50 [00:03<00:00, 15.88it/s]\n",
      "100%|██████████| 50/50 [00:01<00:00, 28.86it/s]"
     ]
    },
    {
     "output_type": "stream",
     "name": "stdout",
     "text": [
      "Epoch 62/100...\n"
     ]
    },
    {
     "output_type": "stream",
     "name": "stderr",
     "text": [
      "\n",
      "100%|██████████| 50/50 [00:03<00:00, 15.59it/s]\n",
      "100%|██████████| 50/50 [00:01<00:00, 28.80it/s]"
     ]
    },
    {
     "output_type": "stream",
     "name": "stdout",
     "text": [
      "Epoch 63/100...\n"
     ]
    },
    {
     "output_type": "stream",
     "name": "stderr",
     "text": [
      "\n",
      "100%|██████████| 50/50 [00:03<00:00, 16.04it/s]\n",
      "100%|██████████| 50/50 [00:01<00:00, 28.49it/s]"
     ]
    },
    {
     "output_type": "stream",
     "name": "stdout",
     "text": [
      "Epoch 64/100...\n"
     ]
    },
    {
     "output_type": "stream",
     "name": "stderr",
     "text": [
      "\n",
      "100%|██████████| 50/50 [00:03<00:00, 15.86it/s]\n",
      "100%|██████████| 50/50 [00:01<00:00, 28.83it/s]"
     ]
    },
    {
     "output_type": "stream",
     "name": "stdout",
     "text": [
      "Epoch 65/100...\n"
     ]
    },
    {
     "output_type": "stream",
     "name": "stderr",
     "text": [
      "\n",
      "100%|██████████| 50/50 [00:03<00:00, 16.10it/s]\n",
      "100%|██████████| 50/50 [00:01<00:00, 29.48it/s]"
     ]
    },
    {
     "output_type": "stream",
     "name": "stdout",
     "text": [
      "Epoch 66/100...\n"
     ]
    },
    {
     "output_type": "stream",
     "name": "stderr",
     "text": [
      "\n",
      "100%|██████████| 50/50 [00:03<00:00, 15.90it/s]\n",
      "100%|██████████| 50/50 [00:01<00:00, 28.31it/s]"
     ]
    },
    {
     "output_type": "stream",
     "name": "stdout",
     "text": [
      "Epoch 67/100...\n"
     ]
    },
    {
     "output_type": "stream",
     "name": "stderr",
     "text": [
      "\n",
      "100%|██████████| 50/50 [00:03<00:00, 16.04it/s]\n",
      "100%|██████████| 50/50 [00:01<00:00, 28.99it/s]"
     ]
    },
    {
     "output_type": "stream",
     "name": "stdout",
     "text": [
      "Epoch 68/100...\n"
     ]
    },
    {
     "output_type": "stream",
     "name": "stderr",
     "text": [
      "\n",
      "100%|██████████| 50/50 [00:03<00:00, 15.89it/s]\n",
      "100%|██████████| 50/50 [00:01<00:00, 28.22it/s]"
     ]
    },
    {
     "output_type": "stream",
     "name": "stdout",
     "text": [
      "Epoch 69/100...\n"
     ]
    },
    {
     "output_type": "stream",
     "name": "stderr",
     "text": [
      "\n",
      "100%|██████████| 50/50 [00:03<00:00, 16.15it/s]\n",
      "100%|██████████| 50/50 [00:01<00:00, 29.40it/s]"
     ]
    },
    {
     "output_type": "stream",
     "name": "stdout",
     "text": [
      "Epoch 70/100...\n"
     ]
    },
    {
     "output_type": "stream",
     "name": "stderr",
     "text": [
      "\n",
      "100%|██████████| 50/50 [00:03<00:00, 15.84it/s]\n",
      "100%|██████████| 50/50 [00:01<00:00, 29.16it/s]"
     ]
    },
    {
     "output_type": "stream",
     "name": "stdout",
     "text": [
      "Epoch 71/100...\n"
     ]
    },
    {
     "output_type": "stream",
     "name": "stderr",
     "text": [
      "\n",
      "100%|██████████| 50/50 [00:03<00:00, 16.00it/s]\n",
      "100%|██████████| 50/50 [00:01<00:00, 29.42it/s]"
     ]
    },
    {
     "output_type": "stream",
     "name": "stdout",
     "text": [
      "New min eval_mae in epoch 70: 0.202282\n",
      "Epoch 72/100...\n"
     ]
    },
    {
     "output_type": "stream",
     "name": "stderr",
     "text": [
      "\n",
      "100%|██████████| 50/50 [00:03<00:00, 15.90it/s]\n",
      "100%|██████████| 50/50 [00:01<00:00, 28.76it/s]"
     ]
    },
    {
     "output_type": "stream",
     "name": "stdout",
     "text": [
      "New min eval_mae in epoch 71: 0.176638\n",
      "Epoch 73/100...\n"
     ]
    },
    {
     "output_type": "stream",
     "name": "stderr",
     "text": [
      "\n",
      "100%|██████████| 50/50 [00:03<00:00, 15.74it/s]\n",
      "100%|██████████| 50/50 [00:01<00:00, 28.66it/s]"
     ]
    },
    {
     "output_type": "stream",
     "name": "stdout",
     "text": [
      "Epoch 74/100...\n"
     ]
    },
    {
     "output_type": "stream",
     "name": "stderr",
     "text": [
      "\n",
      "100%|██████████| 50/50 [00:03<00:00, 15.91it/s]\n",
      "100%|██████████| 50/50 [00:01<00:00, 28.33it/s]"
     ]
    },
    {
     "output_type": "stream",
     "name": "stdout",
     "text": [
      "Epoch 75/100...\n"
     ]
    },
    {
     "output_type": "stream",
     "name": "stderr",
     "text": [
      "\n",
      "100%|██████████| 50/50 [00:03<00:00, 15.87it/s]\n",
      "100%|██████████| 50/50 [00:01<00:00, 28.83it/s]"
     ]
    },
    {
     "output_type": "stream",
     "name": "stdout",
     "text": [
      "Epoch 76/100...\n"
     ]
    },
    {
     "output_type": "stream",
     "name": "stderr",
     "text": [
      "\n",
      "100%|██████████| 50/50 [00:03<00:00, 15.86it/s]\n",
      "100%|██████████| 50/50 [00:01<00:00, 28.83it/s]"
     ]
    },
    {
     "output_type": "stream",
     "name": "stdout",
     "text": [
      "Epoch 77/100...\n"
     ]
    },
    {
     "output_type": "stream",
     "name": "stderr",
     "text": [
      "\n",
      "100%|██████████| 50/50 [00:03<00:00, 15.67it/s]\n",
      "100%|██████████| 50/50 [00:01<00:00, 29.08it/s]"
     ]
    },
    {
     "output_type": "stream",
     "name": "stdout",
     "text": [
      "Epoch 78/100...\n"
     ]
    },
    {
     "output_type": "stream",
     "name": "stderr",
     "text": [
      "\n",
      "100%|██████████| 50/50 [00:03<00:00, 15.99it/s]\n",
      "100%|██████████| 50/50 [00:01<00:00, 28.41it/s]"
     ]
    },
    {
     "output_type": "stream",
     "name": "stdout",
     "text": [
      "Epoch 79/100...\n"
     ]
    },
    {
     "output_type": "stream",
     "name": "stderr",
     "text": [
      "\n",
      "100%|██████████| 50/50 [00:03<00:00, 15.97it/s]\n",
      "100%|██████████| 50/50 [00:01<00:00, 28.55it/s]"
     ]
    },
    {
     "output_type": "stream",
     "name": "stdout",
     "text": [
      "Epoch 80/100...\n"
     ]
    },
    {
     "output_type": "stream",
     "name": "stderr",
     "text": [
      "\n",
      "100%|██████████| 50/50 [00:03<00:00, 15.80it/s]\n",
      "100%|██████████| 50/50 [00:01<00:00, 28.61it/s]"
     ]
    },
    {
     "output_type": "stream",
     "name": "stdout",
     "text": [
      "Epoch 81/100...\n"
     ]
    },
    {
     "output_type": "stream",
     "name": "stderr",
     "text": [
      "\n",
      "100%|██████████| 50/50 [00:03<00:00, 15.61it/s]\n",
      "100%|██████████| 50/50 [00:01<00:00, 28.75it/s]"
     ]
    },
    {
     "output_type": "stream",
     "name": "stdout",
     "text": [
      "Epoch 82/100...\n"
     ]
    },
    {
     "output_type": "stream",
     "name": "stderr",
     "text": [
      "\n",
      "100%|██████████| 50/50 [00:03<00:00, 16.01it/s]\n",
      "100%|██████████| 50/50 [00:01<00:00, 29.07it/s]"
     ]
    },
    {
     "output_type": "stream",
     "name": "stdout",
     "text": [
      "Epoch 83/100...\n"
     ]
    },
    {
     "output_type": "stream",
     "name": "stderr",
     "text": [
      "\n",
      "100%|██████████| 50/50 [00:03<00:00, 15.90it/s]\n",
      "100%|██████████| 50/50 [00:01<00:00, 28.30it/s]"
     ]
    },
    {
     "output_type": "stream",
     "name": "stdout",
     "text": [
      "Epoch 84/100...\n"
     ]
    },
    {
     "output_type": "stream",
     "name": "stderr",
     "text": [
      "\n",
      "100%|██████████| 50/50 [00:03<00:00, 15.86it/s]\n",
      "100%|██████████| 50/50 [00:01<00:00, 26.10it/s]"
     ]
    },
    {
     "output_type": "stream",
     "name": "stdout",
     "text": [
      "Epoch 85/100...\n"
     ]
    },
    {
     "output_type": "stream",
     "name": "stderr",
     "text": [
      "\n",
      "100%|██████████| 50/50 [00:03<00:00, 15.06it/s]\n",
      "100%|██████████| 50/50 [00:01<00:00, 28.92it/s]"
     ]
    },
    {
     "output_type": "stream",
     "name": "stdout",
     "text": [
      "Epoch 86/100...\n"
     ]
    },
    {
     "output_type": "stream",
     "name": "stderr",
     "text": [
      "\n",
      "100%|██████████| 50/50 [00:03<00:00, 16.09it/s]\n",
      "100%|██████████| 50/50 [00:01<00:00, 28.34it/s]"
     ]
    },
    {
     "output_type": "stream",
     "name": "stdout",
     "text": [
      "Epoch 87/100...\n"
     ]
    },
    {
     "output_type": "stream",
     "name": "stderr",
     "text": [
      "\n",
      "100%|██████████| 50/50 [00:03<00:00, 15.22it/s]\n",
      "100%|██████████| 50/50 [00:01<00:00, 27.95it/s]"
     ]
    },
    {
     "output_type": "stream",
     "name": "stdout",
     "text": [
      "Epoch 88/100...\n"
     ]
    },
    {
     "output_type": "stream",
     "name": "stderr",
     "text": [
      "\n",
      "100%|██████████| 50/50 [00:03<00:00, 15.82it/s]\n",
      "100%|██████████| 50/50 [00:01<00:00, 28.42it/s]"
     ]
    },
    {
     "output_type": "stream",
     "name": "stdout",
     "text": [
      "Epoch 89/100...\n"
     ]
    },
    {
     "output_type": "stream",
     "name": "stderr",
     "text": [
      "\n",
      "100%|██████████| 50/50 [00:03<00:00, 15.92it/s]\n",
      "100%|██████████| 50/50 [00:01<00:00, 28.19it/s]"
     ]
    },
    {
     "output_type": "stream",
     "name": "stdout",
     "text": [
      "Epoch 90/100...\n"
     ]
    },
    {
     "output_type": "stream",
     "name": "stderr",
     "text": [
      "\n",
      "100%|██████████| 50/50 [00:03<00:00, 15.96it/s]\n",
      "100%|██████████| 50/50 [00:01<00:00, 28.24it/s]"
     ]
    },
    {
     "output_type": "stream",
     "name": "stdout",
     "text": [
      "Epoch 91/100...\n"
     ]
    },
    {
     "output_type": "stream",
     "name": "stderr",
     "text": [
      "\n",
      "100%|██████████| 50/50 [00:03<00:00, 15.77it/s]\n",
      "100%|██████████| 50/50 [00:01<00:00, 28.67it/s]"
     ]
    },
    {
     "output_type": "stream",
     "name": "stdout",
     "text": [
      "Epoch 92/100...\n"
     ]
    },
    {
     "output_type": "stream",
     "name": "stderr",
     "text": [
      "\n",
      "100%|██████████| 50/50 [00:03<00:00, 15.92it/s]\n",
      "100%|██████████| 50/50 [00:01<00:00, 28.72it/s]"
     ]
    },
    {
     "output_type": "stream",
     "name": "stdout",
     "text": [
      "Epoch 93/100...\n"
     ]
    },
    {
     "output_type": "stream",
     "name": "stderr",
     "text": [
      "\n",
      "100%|██████████| 50/50 [00:03<00:00, 15.86it/s]\n",
      "100%|██████████| 50/50 [00:01<00:00, 27.83it/s]"
     ]
    },
    {
     "output_type": "stream",
     "name": "stdout",
     "text": [
      "Epoch    93: reducing learning rate of group 0 to 4.9000e-05.\n",
      "Epoch 94/100...\n"
     ]
    },
    {
     "output_type": "stream",
     "name": "stderr",
     "text": [
      "\n",
      "100%|██████████| 50/50 [00:03<00:00, 15.88it/s]\n",
      "100%|██████████| 50/50 [00:01<00:00, 29.14it/s]"
     ]
    },
    {
     "output_type": "stream",
     "name": "stdout",
     "text": [
      "Epoch 95/100...\n"
     ]
    },
    {
     "output_type": "stream",
     "name": "stderr",
     "text": [
      "\n",
      "100%|██████████| 50/50 [00:03<00:00, 15.77it/s]\n",
      "100%|██████████| 50/50 [00:01<00:00, 28.83it/s]"
     ]
    },
    {
     "output_type": "stream",
     "name": "stdout",
     "text": [
      "Epoch 96/100...\n"
     ]
    },
    {
     "output_type": "stream",
     "name": "stderr",
     "text": [
      "\n",
      "100%|██████████| 50/50 [00:03<00:00, 16.08it/s]\n",
      "100%|██████████| 50/50 [00:01<00:00, 28.60it/s]"
     ]
    },
    {
     "output_type": "stream",
     "name": "stdout",
     "text": [
      "Epoch 97/100...\n"
     ]
    },
    {
     "output_type": "stream",
     "name": "stderr",
     "text": [
      "\n",
      "100%|██████████| 50/50 [00:03<00:00, 15.85it/s]\n",
      "100%|██████████| 50/50 [00:01<00:00, 28.67it/s]"
     ]
    },
    {
     "output_type": "stream",
     "name": "stdout",
     "text": [
      "Epoch 98/100...\n"
     ]
    },
    {
     "output_type": "stream",
     "name": "stderr",
     "text": [
      "\n",
      "100%|██████████| 50/50 [00:03<00:00, 16.03it/s]\n",
      "100%|██████████| 50/50 [00:01<00:00, 28.77it/s]"
     ]
    },
    {
     "output_type": "stream",
     "name": "stdout",
     "text": [
      "Epoch 99/100...\n"
     ]
    },
    {
     "output_type": "stream",
     "name": "stderr",
     "text": [
      "\n",
      "100%|██████████| 50/50 [00:03<00:00, 15.61it/s]\n",
      "100%|██████████| 50/50 [00:01<00:00, 27.80it/s]"
     ]
    },
    {
     "output_type": "stream",
     "name": "stdout",
     "text": [
      "Epoch 100/100...\n"
     ]
    },
    {
     "output_type": "stream",
     "name": "stderr",
     "text": [
      "\n",
      "100%|██████████| 50/50 [00:03<00:00, 15.92it/s]\n",
      "100%|██████████| 50/50 [00:01<00:00, 29.41it/s]\n"
     ]
    }
   ],
   "metadata": {}
  },
  {
   "cell_type": "code",
   "execution_count": null,
   "source": [],
   "outputs": [],
   "metadata": {}
  }
 ],
 "metadata": {
  "orig_nbformat": 4,
  "language_info": {
   "name": "python",
   "version": "3.7.4",
   "mimetype": "text/x-python",
   "codemirror_mode": {
    "name": "ipython",
    "version": 3
   },
   "pygments_lexer": "ipython3",
   "nbconvert_exporter": "python",
   "file_extension": ".py"
  },
  "kernelspec": {
   "name": "python3",
   "display_name": "Python 3.7.4 64-bit ('delfta': conda)"
  },
  "interpreter": {
   "hash": "6e3f0e0686e4e7c699d1571d1296d5e4355a8e109c70abfba87c453ed20075c6"
  }
 },
 "nbformat": 4,
 "nbformat_minor": 2
}